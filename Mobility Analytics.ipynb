{
 "cells": [
  {
   "cell_type": "code",
   "execution_count": 1,
   "metadata": {},
   "outputs": [],
   "source": [
    "import pandas as pd\n",
    "import numpy as np\n",
    "import matplotlib.pyplot as plt\n",
    "%matplotlib inline\n",
    "import seaborn as sns\n",
    "from scipy import stats\n",
    "from scipy.stats import norm\n",
    "import warnings\n",
    "warnings.filterwarnings('ignore')"
   ]
  },
  {
   "cell_type": "code",
   "execution_count": 2,
   "metadata": {},
   "outputs": [],
   "source": [
    "train_df = pd.read_csv(\"train_Wc8LBpr.csv\")\n",
    "test_df = pd.read_csv(\"test_VsU9xXK.csv\")"
   ]
  },
  {
   "cell_type": "code",
   "execution_count": 3,
   "metadata": {},
   "outputs": [
    {
     "data": {
      "text/html": [
       "<div>\n",
       "<style scoped>\n",
       "    .dataframe tbody tr th:only-of-type {\n",
       "        vertical-align: middle;\n",
       "    }\n",
       "\n",
       "    .dataframe tbody tr th {\n",
       "        vertical-align: top;\n",
       "    }\n",
       "\n",
       "    .dataframe thead th {\n",
       "        text-align: right;\n",
       "    }\n",
       "</style>\n",
       "<table border=\"1\" class=\"dataframe\">\n",
       "  <thead>\n",
       "    <tr style=\"text-align: right;\">\n",
       "      <th></th>\n",
       "      <th>Trip_ID</th>\n",
       "      <th>Trip_Distance</th>\n",
       "      <th>Type_of_Cab</th>\n",
       "      <th>Customer_Since_Months</th>\n",
       "      <th>Life_Style_Index</th>\n",
       "      <th>Confidence_Life_Style_Index</th>\n",
       "      <th>Destination_Type</th>\n",
       "      <th>Customer_Rating</th>\n",
       "      <th>Cancellation_Last_1Month</th>\n",
       "      <th>Var1</th>\n",
       "      <th>Var2</th>\n",
       "      <th>Var3</th>\n",
       "      <th>Gender</th>\n",
       "      <th>Surge_Pricing_Type</th>\n",
       "    </tr>\n",
       "  </thead>\n",
       "  <tbody>\n",
       "    <tr>\n",
       "      <th>0</th>\n",
       "      <td>T0005689460</td>\n",
       "      <td>6.77</td>\n",
       "      <td>B</td>\n",
       "      <td>1.0</td>\n",
       "      <td>2.42769</td>\n",
       "      <td>A</td>\n",
       "      <td>A</td>\n",
       "      <td>3.90500</td>\n",
       "      <td>0</td>\n",
       "      <td>40.0</td>\n",
       "      <td>46</td>\n",
       "      <td>60</td>\n",
       "      <td>Female</td>\n",
       "      <td>2</td>\n",
       "    </tr>\n",
       "    <tr>\n",
       "      <th>1</th>\n",
       "      <td>T0005689461</td>\n",
       "      <td>29.47</td>\n",
       "      <td>B</td>\n",
       "      <td>10.0</td>\n",
       "      <td>2.78245</td>\n",
       "      <td>B</td>\n",
       "      <td>A</td>\n",
       "      <td>3.45000</td>\n",
       "      <td>0</td>\n",
       "      <td>38.0</td>\n",
       "      <td>56</td>\n",
       "      <td>78</td>\n",
       "      <td>Male</td>\n",
       "      <td>2</td>\n",
       "    </tr>\n",
       "    <tr>\n",
       "      <th>2</th>\n",
       "      <td>T0005689464</td>\n",
       "      <td>41.58</td>\n",
       "      <td>NaN</td>\n",
       "      <td>10.0</td>\n",
       "      <td>NaN</td>\n",
       "      <td>NaN</td>\n",
       "      <td>E</td>\n",
       "      <td>3.50125</td>\n",
       "      <td>2</td>\n",
       "      <td>NaN</td>\n",
       "      <td>56</td>\n",
       "      <td>77</td>\n",
       "      <td>Male</td>\n",
       "      <td>2</td>\n",
       "    </tr>\n",
       "    <tr>\n",
       "      <th>3</th>\n",
       "      <td>T0005689465</td>\n",
       "      <td>61.56</td>\n",
       "      <td>C</td>\n",
       "      <td>10.0</td>\n",
       "      <td>NaN</td>\n",
       "      <td>NaN</td>\n",
       "      <td>A</td>\n",
       "      <td>3.45375</td>\n",
       "      <td>0</td>\n",
       "      <td>NaN</td>\n",
       "      <td>52</td>\n",
       "      <td>74</td>\n",
       "      <td>Male</td>\n",
       "      <td>3</td>\n",
       "    </tr>\n",
       "    <tr>\n",
       "      <th>4</th>\n",
       "      <td>T0005689467</td>\n",
       "      <td>54.95</td>\n",
       "      <td>C</td>\n",
       "      <td>10.0</td>\n",
       "      <td>3.03453</td>\n",
       "      <td>B</td>\n",
       "      <td>A</td>\n",
       "      <td>3.40250</td>\n",
       "      <td>4</td>\n",
       "      <td>51.0</td>\n",
       "      <td>49</td>\n",
       "      <td>102</td>\n",
       "      <td>Male</td>\n",
       "      <td>2</td>\n",
       "    </tr>\n",
       "    <tr>\n",
       "      <th>5</th>\n",
       "      <td>T0005689469</td>\n",
       "      <td>19.06</td>\n",
       "      <td>E</td>\n",
       "      <td>10.0</td>\n",
       "      <td>NaN</td>\n",
       "      <td>NaN</td>\n",
       "      <td>A</td>\n",
       "      <td>2.59750</td>\n",
       "      <td>1</td>\n",
       "      <td>72.0</td>\n",
       "      <td>63</td>\n",
       "      <td>91</td>\n",
       "      <td>Male</td>\n",
       "      <td>3</td>\n",
       "    </tr>\n",
       "    <tr>\n",
       "      <th>6</th>\n",
       "      <td>T0005689470</td>\n",
       "      <td>29.72</td>\n",
       "      <td>E</td>\n",
       "      <td>10.0</td>\n",
       "      <td>2.83958</td>\n",
       "      <td>C</td>\n",
       "      <td>B</td>\n",
       "      <td>2.97500</td>\n",
       "      <td>1</td>\n",
       "      <td>83.0</td>\n",
       "      <td>50</td>\n",
       "      <td>75</td>\n",
       "      <td>Male</td>\n",
       "      <td>2</td>\n",
       "    </tr>\n",
       "    <tr>\n",
       "      <th>7</th>\n",
       "      <td>T0005689472</td>\n",
       "      <td>18.44</td>\n",
       "      <td>B</td>\n",
       "      <td>2.0</td>\n",
       "      <td>2.81871</td>\n",
       "      <td>B</td>\n",
       "      <td>A</td>\n",
       "      <td>3.58250</td>\n",
       "      <td>0</td>\n",
       "      <td>103.0</td>\n",
       "      <td>46</td>\n",
       "      <td>63</td>\n",
       "      <td>Male</td>\n",
       "      <td>2</td>\n",
       "    </tr>\n",
       "    <tr>\n",
       "      <th>8</th>\n",
       "      <td>T0005689473</td>\n",
       "      <td>106.80</td>\n",
       "      <td>C</td>\n",
       "      <td>3.0</td>\n",
       "      <td>NaN</td>\n",
       "      <td>NaN</td>\n",
       "      <td>A</td>\n",
       "      <td>3.14625</td>\n",
       "      <td>0</td>\n",
       "      <td>NaN</td>\n",
       "      <td>58</td>\n",
       "      <td>92</td>\n",
       "      <td>Male</td>\n",
       "      <td>2</td>\n",
       "    </tr>\n",
       "    <tr>\n",
       "      <th>9</th>\n",
       "      <td>T0005689474</td>\n",
       "      <td>107.19</td>\n",
       "      <td>D</td>\n",
       "      <td>5.0</td>\n",
       "      <td>3.04467</td>\n",
       "      <td>B</td>\n",
       "      <td>A</td>\n",
       "      <td>2.44375</td>\n",
       "      <td>1</td>\n",
       "      <td>NaN</td>\n",
       "      <td>58</td>\n",
       "      <td>83</td>\n",
       "      <td>Male</td>\n",
       "      <td>3</td>\n",
       "    </tr>\n",
       "    <tr>\n",
       "      <th>10</th>\n",
       "      <td>T0005689475</td>\n",
       "      <td>46.07</td>\n",
       "      <td>D</td>\n",
       "      <td>10.0</td>\n",
       "      <td>2.95887</td>\n",
       "      <td>C</td>\n",
       "      <td>B</td>\n",
       "      <td>2.49125</td>\n",
       "      <td>2</td>\n",
       "      <td>89.0</td>\n",
       "      <td>48</td>\n",
       "      <td>69</td>\n",
       "      <td>Female</td>\n",
       "      <td>2</td>\n",
       "    </tr>\n",
       "    <tr>\n",
       "      <th>11</th>\n",
       "      <td>T0005689477</td>\n",
       "      <td>90.93</td>\n",
       "      <td>NaN</td>\n",
       "      <td>0.0</td>\n",
       "      <td>2.95327</td>\n",
       "      <td>C</td>\n",
       "      <td>C</td>\n",
       "      <td>2.93500</td>\n",
       "      <td>1</td>\n",
       "      <td>NaN</td>\n",
       "      <td>46</td>\n",
       "      <td>63</td>\n",
       "      <td>Male</td>\n",
       "      <td>2</td>\n",
       "    </tr>\n",
       "    <tr>\n",
       "      <th>12</th>\n",
       "      <td>T0005689479</td>\n",
       "      <td>39.73</td>\n",
       "      <td>B</td>\n",
       "      <td>10.0</td>\n",
       "      <td>2.84870</td>\n",
       "      <td>C</td>\n",
       "      <td>B</td>\n",
       "      <td>3.12875</td>\n",
       "      <td>2</td>\n",
       "      <td>71.0</td>\n",
       "      <td>47</td>\n",
       "      <td>76</td>\n",
       "      <td>Male</td>\n",
       "      <td>2</td>\n",
       "    </tr>\n",
       "    <tr>\n",
       "      <th>13</th>\n",
       "      <td>T0005689482</td>\n",
       "      <td>31.16</td>\n",
       "      <td>B</td>\n",
       "      <td>NaN</td>\n",
       "      <td>2.69170</td>\n",
       "      <td>B</td>\n",
       "      <td>A</td>\n",
       "      <td>2.14750</td>\n",
       "      <td>0</td>\n",
       "      <td>NaN</td>\n",
       "      <td>53</td>\n",
       "      <td>90</td>\n",
       "      <td>Female</td>\n",
       "      <td>1</td>\n",
       "    </tr>\n",
       "    <tr>\n",
       "      <th>14</th>\n",
       "      <td>T0005689484</td>\n",
       "      <td>83.53</td>\n",
       "      <td>C</td>\n",
       "      <td>0.0</td>\n",
       "      <td>2.80658</td>\n",
       "      <td>C</td>\n",
       "      <td>A</td>\n",
       "      <td>2.07625</td>\n",
       "      <td>0</td>\n",
       "      <td>NaN</td>\n",
       "      <td>51</td>\n",
       "      <td>75</td>\n",
       "      <td>Male</td>\n",
       "      <td>2</td>\n",
       "    </tr>\n",
       "  </tbody>\n",
       "</table>\n",
       "</div>"
      ],
      "text/plain": [
       "        Trip_ID  Trip_Distance Type_of_Cab  Customer_Since_Months  \\\n",
       "0   T0005689460           6.77           B                    1.0   \n",
       "1   T0005689461          29.47           B                   10.0   \n",
       "2   T0005689464          41.58         NaN                   10.0   \n",
       "3   T0005689465          61.56           C                   10.0   \n",
       "4   T0005689467          54.95           C                   10.0   \n",
       "5   T0005689469          19.06           E                   10.0   \n",
       "6   T0005689470          29.72           E                   10.0   \n",
       "7   T0005689472          18.44           B                    2.0   \n",
       "8   T0005689473         106.80           C                    3.0   \n",
       "9   T0005689474         107.19           D                    5.0   \n",
       "10  T0005689475          46.07           D                   10.0   \n",
       "11  T0005689477          90.93         NaN                    0.0   \n",
       "12  T0005689479          39.73           B                   10.0   \n",
       "13  T0005689482          31.16           B                    NaN   \n",
       "14  T0005689484          83.53           C                    0.0   \n",
       "\n",
       "    Life_Style_Index Confidence_Life_Style_Index Destination_Type  \\\n",
       "0            2.42769                           A                A   \n",
       "1            2.78245                           B                A   \n",
       "2                NaN                         NaN                E   \n",
       "3                NaN                         NaN                A   \n",
       "4            3.03453                           B                A   \n",
       "5                NaN                         NaN                A   \n",
       "6            2.83958                           C                B   \n",
       "7            2.81871                           B                A   \n",
       "8                NaN                         NaN                A   \n",
       "9            3.04467                           B                A   \n",
       "10           2.95887                           C                B   \n",
       "11           2.95327                           C                C   \n",
       "12           2.84870                           C                B   \n",
       "13           2.69170                           B                A   \n",
       "14           2.80658                           C                A   \n",
       "\n",
       "    Customer_Rating  Cancellation_Last_1Month   Var1  Var2  Var3  Gender  \\\n",
       "0           3.90500                         0   40.0    46    60  Female   \n",
       "1           3.45000                         0   38.0    56    78    Male   \n",
       "2           3.50125                         2    NaN    56    77    Male   \n",
       "3           3.45375                         0    NaN    52    74    Male   \n",
       "4           3.40250                         4   51.0    49   102    Male   \n",
       "5           2.59750                         1   72.0    63    91    Male   \n",
       "6           2.97500                         1   83.0    50    75    Male   \n",
       "7           3.58250                         0  103.0    46    63    Male   \n",
       "8           3.14625                         0    NaN    58    92    Male   \n",
       "9           2.44375                         1    NaN    58    83    Male   \n",
       "10          2.49125                         2   89.0    48    69  Female   \n",
       "11          2.93500                         1    NaN    46    63    Male   \n",
       "12          3.12875                         2   71.0    47    76    Male   \n",
       "13          2.14750                         0    NaN    53    90  Female   \n",
       "14          2.07625                         0    NaN    51    75    Male   \n",
       "\n",
       "    Surge_Pricing_Type  \n",
       "0                    2  \n",
       "1                    2  \n",
       "2                    2  \n",
       "3                    3  \n",
       "4                    2  \n",
       "5                    3  \n",
       "6                    2  \n",
       "7                    2  \n",
       "8                    2  \n",
       "9                    3  \n",
       "10                   2  \n",
       "11                   2  \n",
       "12                   2  \n",
       "13                   1  \n",
       "14                   2  "
      ]
     },
     "execution_count": 3,
     "metadata": {},
     "output_type": "execute_result"
    }
   ],
   "source": [
    "train_df.head(15)"
   ]
  },
  {
   "cell_type": "code",
   "execution_count": 4,
   "metadata": {},
   "outputs": [
    {
     "name": "stdout",
     "output_type": "stream",
     "text": [
      "<class 'pandas.core.frame.DataFrame'>\n",
      "RangeIndex: 131662 entries, 0 to 131661\n",
      "Data columns (total 14 columns):\n",
      " #   Column                       Non-Null Count   Dtype  \n",
      "---  ------                       --------------   -----  \n",
      " 0   Trip_ID                      131662 non-null  object \n",
      " 1   Trip_Distance                131662 non-null  float64\n",
      " 2   Type_of_Cab                  111452 non-null  object \n",
      " 3   Customer_Since_Months        125742 non-null  float64\n",
      " 4   Life_Style_Index             111469 non-null  float64\n",
      " 5   Confidence_Life_Style_Index  111469 non-null  object \n",
      " 6   Destination_Type             131662 non-null  object \n",
      " 7   Customer_Rating              131662 non-null  float64\n",
      " 8   Cancellation_Last_1Month     131662 non-null  int64  \n",
      " 9   Var1                         60632 non-null   float64\n",
      " 10  Var2                         131662 non-null  int64  \n",
      " 11  Var3                         131662 non-null  int64  \n",
      " 12  Gender                       131662 non-null  object \n",
      " 13  Surge_Pricing_Type           131662 non-null  int64  \n",
      "dtypes: float64(5), int64(4), object(5)\n",
      "memory usage: 14.1+ MB\n",
      "-----------------------------------------\n",
      "<class 'pandas.core.frame.DataFrame'>\n",
      "RangeIndex: 87395 entries, 0 to 87394\n",
      "Data columns (total 13 columns):\n",
      " #   Column                       Non-Null Count  Dtype  \n",
      "---  ------                       --------------  -----  \n",
      " 0   Trip_ID                      87395 non-null  object \n",
      " 1   Trip_Distance                87395 non-null  float64\n",
      " 2   Type_of_Cab                  74237 non-null  object \n",
      " 3   Customer_Since_Months        83429 non-null  float64\n",
      " 4   Life_Style_Index             74068 non-null  float64\n",
      " 5   Confidence_Life_Style_Index  74068 non-null  object \n",
      " 6   Destination_Type             87395 non-null  object \n",
      " 7   Customer_Rating              87395 non-null  float64\n",
      " 8   Cancellation_Last_1Month     87395 non-null  int64  \n",
      " 9   Var1                         40606 non-null  float64\n",
      " 10  Var2                         87395 non-null  int64  \n",
      " 11  Var3                         87395 non-null  int64  \n",
      " 12  Gender                       87395 non-null  object \n",
      "dtypes: float64(5), int64(3), object(5)\n",
      "memory usage: 8.7+ MB\n"
     ]
    }
   ],
   "source": [
    "train_df.info()\n",
    "print(\"-----------------------------------------\")\n",
    "test_df.info()"
   ]
  },
  {
   "cell_type": "code",
   "execution_count": 5,
   "metadata": {},
   "outputs": [
    {
     "data": {
      "text/html": [
       "<div>\n",
       "<style scoped>\n",
       "    .dataframe tbody tr th:only-of-type {\n",
       "        vertical-align: middle;\n",
       "    }\n",
       "\n",
       "    .dataframe tbody tr th {\n",
       "        vertical-align: top;\n",
       "    }\n",
       "\n",
       "    .dataframe thead th {\n",
       "        text-align: right;\n",
       "    }\n",
       "</style>\n",
       "<table border=\"1\" class=\"dataframe\">\n",
       "  <thead>\n",
       "    <tr style=\"text-align: right;\">\n",
       "      <th></th>\n",
       "      <th>Train</th>\n",
       "      <th>Test</th>\n",
       "    </tr>\n",
       "  </thead>\n",
       "  <tbody>\n",
       "    <tr>\n",
       "      <th>Type_of_Cab</th>\n",
       "      <td>20210</td>\n",
       "      <td>13158.0</td>\n",
       "    </tr>\n",
       "    <tr>\n",
       "      <th>Customer_Since_Months</th>\n",
       "      <td>5920</td>\n",
       "      <td>3966.0</td>\n",
       "    </tr>\n",
       "    <tr>\n",
       "      <th>Life_Style_Index</th>\n",
       "      <td>20193</td>\n",
       "      <td>13327.0</td>\n",
       "    </tr>\n",
       "    <tr>\n",
       "      <th>Confidence_Life_Style_Index</th>\n",
       "      <td>20193</td>\n",
       "      <td>13327.0</td>\n",
       "    </tr>\n",
       "    <tr>\n",
       "      <th>Var1</th>\n",
       "      <td>71030</td>\n",
       "      <td>46789.0</td>\n",
       "    </tr>\n",
       "  </tbody>\n",
       "</table>\n",
       "</div>"
      ],
      "text/plain": [
       "                             Train     Test\n",
       "Type_of_Cab                  20210  13158.0\n",
       "Customer_Since_Months         5920   3966.0\n",
       "Life_Style_Index             20193  13327.0\n",
       "Confidence_Life_Style_Index  20193  13327.0\n",
       "Var1                         71030  46789.0"
      ]
     },
     "execution_count": 5,
     "metadata": {},
     "output_type": "execute_result"
    }
   ],
   "source": [
    "missing_val = pd.concat([train_df.isnull().sum(), test_df.isnull().sum()], axis=1, keys=['Train', 'Test'])\n",
    "missing_val[missing_val.sum(axis=1) > 0]\n",
    "# 197495 - 15% of Train\n",
    "# 13109 - 15% of Test"
   ]
  },
  {
   "cell_type": "code",
   "execution_count": 6,
   "metadata": {},
   "outputs": [
    {
     "data": {
      "text/html": [
       "<div>\n",
       "<style scoped>\n",
       "    .dataframe tbody tr th:only-of-type {\n",
       "        vertical-align: middle;\n",
       "    }\n",
       "\n",
       "    .dataframe tbody tr th {\n",
       "        vertical-align: top;\n",
       "    }\n",
       "\n",
       "    .dataframe thead th {\n",
       "        text-align: right;\n",
       "    }\n",
       "</style>\n",
       "<table border=\"1\" class=\"dataframe\">\n",
       "  <thead>\n",
       "    <tr style=\"text-align: right;\">\n",
       "      <th></th>\n",
       "      <th>Trip_Distance</th>\n",
       "      <th>Customer_Since_Months</th>\n",
       "      <th>Life_Style_Index</th>\n",
       "      <th>Customer_Rating</th>\n",
       "      <th>Cancellation_Last_1Month</th>\n",
       "      <th>Var1</th>\n",
       "      <th>Var2</th>\n",
       "      <th>Var3</th>\n",
       "      <th>Surge_Pricing_Type</th>\n",
       "    </tr>\n",
       "  </thead>\n",
       "  <tbody>\n",
       "    <tr>\n",
       "      <th>count</th>\n",
       "      <td>131662.000000</td>\n",
       "      <td>125742.000000</td>\n",
       "      <td>111469.000000</td>\n",
       "      <td>131662.000000</td>\n",
       "      <td>131662.000000</td>\n",
       "      <td>60632.000000</td>\n",
       "      <td>131662.000000</td>\n",
       "      <td>131662.000000</td>\n",
       "      <td>131662.000000</td>\n",
       "    </tr>\n",
       "    <tr>\n",
       "      <th>mean</th>\n",
       "      <td>44.200909</td>\n",
       "      <td>6.016661</td>\n",
       "      <td>2.802064</td>\n",
       "      <td>2.849458</td>\n",
       "      <td>0.782838</td>\n",
       "      <td>64.202698</td>\n",
       "      <td>51.202800</td>\n",
       "      <td>75.099019</td>\n",
       "      <td>2.155747</td>\n",
       "    </tr>\n",
       "    <tr>\n",
       "      <th>std</th>\n",
       "      <td>25.522882</td>\n",
       "      <td>3.626887</td>\n",
       "      <td>0.225796</td>\n",
       "      <td>0.980675</td>\n",
       "      <td>1.037559</td>\n",
       "      <td>21.820447</td>\n",
       "      <td>4.986142</td>\n",
       "      <td>11.578278</td>\n",
       "      <td>0.738164</td>\n",
       "    </tr>\n",
       "    <tr>\n",
       "      <th>min</th>\n",
       "      <td>0.310000</td>\n",
       "      <td>0.000000</td>\n",
       "      <td>1.596380</td>\n",
       "      <td>0.001250</td>\n",
       "      <td>0.000000</td>\n",
       "      <td>30.000000</td>\n",
       "      <td>40.000000</td>\n",
       "      <td>52.000000</td>\n",
       "      <td>1.000000</td>\n",
       "    </tr>\n",
       "    <tr>\n",
       "      <th>25%</th>\n",
       "      <td>24.580000</td>\n",
       "      <td>3.000000</td>\n",
       "      <td>2.654730</td>\n",
       "      <td>2.152500</td>\n",
       "      <td>0.000000</td>\n",
       "      <td>46.000000</td>\n",
       "      <td>48.000000</td>\n",
       "      <td>67.000000</td>\n",
       "      <td>2.000000</td>\n",
       "    </tr>\n",
       "    <tr>\n",
       "      <th>50%</th>\n",
       "      <td>38.200000</td>\n",
       "      <td>6.000000</td>\n",
       "      <td>2.798050</td>\n",
       "      <td>2.895000</td>\n",
       "      <td>0.000000</td>\n",
       "      <td>61.000000</td>\n",
       "      <td>50.000000</td>\n",
       "      <td>74.000000</td>\n",
       "      <td>2.000000</td>\n",
       "    </tr>\n",
       "    <tr>\n",
       "      <th>75%</th>\n",
       "      <td>60.730000</td>\n",
       "      <td>10.000000</td>\n",
       "      <td>2.946780</td>\n",
       "      <td>3.582500</td>\n",
       "      <td>1.000000</td>\n",
       "      <td>80.000000</td>\n",
       "      <td>54.000000</td>\n",
       "      <td>82.000000</td>\n",
       "      <td>3.000000</td>\n",
       "    </tr>\n",
       "    <tr>\n",
       "      <th>max</th>\n",
       "      <td>109.230000</td>\n",
       "      <td>10.000000</td>\n",
       "      <td>4.875110</td>\n",
       "      <td>5.000000</td>\n",
       "      <td>8.000000</td>\n",
       "      <td>210.000000</td>\n",
       "      <td>124.000000</td>\n",
       "      <td>206.000000</td>\n",
       "      <td>3.000000</td>\n",
       "    </tr>\n",
       "  </tbody>\n",
       "</table>\n",
       "</div>"
      ],
      "text/plain": [
       "       Trip_Distance  Customer_Since_Months  Life_Style_Index  \\\n",
       "count  131662.000000          125742.000000     111469.000000   \n",
       "mean       44.200909               6.016661          2.802064   \n",
       "std        25.522882               3.626887          0.225796   \n",
       "min         0.310000               0.000000          1.596380   \n",
       "25%        24.580000               3.000000          2.654730   \n",
       "50%        38.200000               6.000000          2.798050   \n",
       "75%        60.730000              10.000000          2.946780   \n",
       "max       109.230000              10.000000          4.875110   \n",
       "\n",
       "       Customer_Rating  Cancellation_Last_1Month          Var1           Var2  \\\n",
       "count    131662.000000             131662.000000  60632.000000  131662.000000   \n",
       "mean          2.849458                  0.782838     64.202698      51.202800   \n",
       "std           0.980675                  1.037559     21.820447       4.986142   \n",
       "min           0.001250                  0.000000     30.000000      40.000000   \n",
       "25%           2.152500                  0.000000     46.000000      48.000000   \n",
       "50%           2.895000                  0.000000     61.000000      50.000000   \n",
       "75%           3.582500                  1.000000     80.000000      54.000000   \n",
       "max           5.000000                  8.000000    210.000000     124.000000   \n",
       "\n",
       "                Var3  Surge_Pricing_Type  \n",
       "count  131662.000000       131662.000000  \n",
       "mean       75.099019            2.155747  \n",
       "std        11.578278            0.738164  \n",
       "min        52.000000            1.000000  \n",
       "25%        67.000000            2.000000  \n",
       "50%        74.000000            2.000000  \n",
       "75%        82.000000            3.000000  \n",
       "max       206.000000            3.000000  "
      ]
     },
     "execution_count": 6,
     "metadata": {},
     "output_type": "execute_result"
    }
   ],
   "source": [
    "train_df.describe()"
   ]
  },
  {
   "cell_type": "code",
   "execution_count": 7,
   "metadata": {},
   "outputs": [
    {
     "data": {
      "text/plain": [
       "<matplotlib.axes._subplots.AxesSubplot at 0x2283a98efc8>"
      ]
     },
     "execution_count": 7,
     "metadata": {},
     "output_type": "execute_result"
    },
    {
     "data": {
      "image/png": "[encoded data removed]",
      "text/plain": [
       "<Figure size 432x288 with 1 Axes>"
      ]
     },
     "metadata": {
      "needs_background": "light"
     },
     "output_type": "display_data"
    }
   ],
   "source": [
    "sns.countplot(x='Surge_Pricing_Type', data=train_df)"
   ]
  },
  {
   "cell_type": "code",
   "execution_count": 8,
   "metadata": {},
   "outputs": [
    {
     "data": {
      "text/plain": [
       "<matplotlib.axes._subplots.AxesSubplot at 0x2283a9c3548>"
      ]
     },
     "execution_count": 8,
     "metadata": {},
     "output_type": "execute_result"
    },
    {
     "data": {
      "image/png": "[encoded data removed]",
      "text/plain": [
       "<Figure size 432x288 with 1 Axes>"
      ]
     },
     "metadata": {
      "needs_background": "light"
     },
     "output_type": "display_data"
    }
   ],
   "source": [
    "sns.countplot(x='Type_of_Cab', data=train_df)"
   ]
  },
  {
   "cell_type": "code",
   "execution_count": 9,
   "metadata": {},
   "outputs": [
    {
     "data": {
      "text/plain": [
       "10.0    42680\n",
       "2.0     11621\n",
       "3.0     10351\n",
       "0.0     10169\n",
       "5.0      8641\n",
       "1.0      8297\n",
       "4.0      7726\n",
       "7.0      7407\n",
       "6.0      7375\n",
       "8.0      6328\n",
       "9.0      5147\n",
       "Name: Customer_Since_Months, dtype: int64"
      ]
     },
     "execution_count": 9,
     "metadata": {},
     "output_type": "execute_result"
    }
   ],
   "source": [
    "train_df['Customer_Since_Months'].value_counts()"
   ]
  },
  {
   "cell_type": "code",
   "execution_count": 10,
   "metadata": {},
   "outputs": [
    {
     "data": {
      "text/plain": [
       "<matplotlib.axes._subplots.AxesSubplot at 0x2283ae93c88>"
      ]
     },
     "execution_count": 10,
     "metadata": {},
     "output_type": "execute_result"
    },
    {
     "data": {
      "image/png": "[encoded data removed]",
      "text/plain": [
       "<Figure size 432x288 with 1 Axes>"
      ]
     },
     "metadata": {
      "needs_background": "light"
     },
     "output_type": "display_data"
    }
   ],
   "source": [
    "sns.scatterplot(x='Life_Style_Index', y='Surge_Pricing_Type', data = train_df)"
   ]
  },
  {
   "cell_type": "code",
   "execution_count": 11,
   "metadata": {},
   "outputs": [
    {
     "data": {
      "image/png": "[encoded data removed]",
      "text/plain": [
       "<Figure size 432x288 with 1 Axes>"
      ]
     },
     "metadata": {
      "needs_background": "light"
     },
     "output_type": "display_data"
    },
    {
     "data": {
      "image/png": "[encoded data removed]",
      "text/plain": [
       "<Figure size 432x288 with 1 Axes>"
      ]
     },
     "metadata": {
      "needs_background": "light"
     },
     "output_type": "display_data"
    }
   ],
   "source": [
    "sns.distplot(train_df['Life_Style_Index'], fit=norm)\n",
    "fig = plt.figure()\n",
    "res = stats.probplot(train_df['Life_Style_Index'], plot=plt)"
   ]
  },
  {
   "cell_type": "code",
   "execution_count": 12,
   "metadata": {},
   "outputs": [
    {
     "data": {
      "text/plain": [
       "<matplotlib.axes._subplots.AxesSubplot at 0x2283748f488>"
      ]
     },
     "execution_count": 12,
     "metadata": {},
     "output_type": "execute_result"
    },
    {
     "data": {
      "image/png": "[encoded data removed]",
      "text/plain": [
       "<Figure size 432x288 with 1 Axes>"
      ]
     },
     "metadata": {
      "needs_background": "light"
     },
     "output_type": "display_data"
    }
   ],
   "source": [
    "sns.countplot(x='Confidence_Life_Style_Index', data=train_df)"
   ]
  },
  {
   "cell_type": "code",
   "execution_count": 13,
   "metadata": {},
   "outputs": [
    {
     "data": {
      "image/png": "[encoded data removed]",
      "text/plain": [
       "<Figure size 432x288 with 1 Axes>"
      ]
     },
     "metadata": {
      "needs_background": "light"
     },
     "output_type": "display_data"
    },
    {
     "data": {
      "image/png": "[encoded data removed]",
      "text/plain": [
       "<Figure size 432x288 with 1 Axes>"
      ]
     },
     "metadata": {
      "needs_background": "light"
     },
     "output_type": "display_data"
    }
   ],
   "source": [
    "sns.distplot(train_df['Var1'], fit=norm)\n",
    "fig = plt.figure()\n",
    "res = stats.probplot(train_df['Var1'], plot=plt)"
   ]
  },
  {
   "cell_type": "code",
   "execution_count": 20,
   "metadata": {},
   "outputs": [
    {
     "data": {
      "image/png": "[encoded data removed]",
      "text/plain": [
       "<Figure size 432x288 with 1 Axes>"
      ]
     },
     "metadata": {
      "needs_background": "light"
     },
     "output_type": "display_data"
    },
    {
     "data": {
      "image/png": "[encoded data removed]",
      "text/plain": [
       "<Figure size 432x288 with 1 Axes>"
      ]
     },
     "metadata": {
      "needs_background": "light"
     },
     "output_type": "display_data"
    }
   ],
   "source": [
    "sns.distplot(test_df['Var1'], fit=norm)\n",
    "fig = plt.figure()\n",
    "res = stats.probplot(test_df['Var1'], plot=plt)"
   ]
  },
  {
   "cell_type": "code",
   "execution_count": 14,
   "metadata": {},
   "outputs": [
    {
     "data": {
      "image/png": "[encoded data removed]",
      "text/plain": [
       "<Figure size 432x288 with 1 Axes>"
      ]
     },
     "metadata": {
      "needs_background": "light"
     },
     "output_type": "display_data"
    },
    {
     "data": {
      "image/png": "[encoded data removed]",
      "text/plain": [
       "<Figure size 432x288 with 1 Axes>"
      ]
     },
     "metadata": {
      "needs_background": "light"
     },
     "output_type": "display_data"
    }
   ],
   "source": [
    "sns.distplot(train_df['Var2'], fit=norm)\n",
    "fig = plt.figure()\n",
    "res = stats.probplot(train_df['Var2'], plot=plt)"
   ]
  },
  {
   "cell_type": "code",
   "execution_count": 21,
   "metadata": {},
   "outputs": [
    {
     "data": {
      "image/png": "[encoded data removed]",
      "text/plain": [
       "<Figure size 432x288 with 1 Axes>"
      ]
     },
     "metadata": {
      "needs_background": "light"
     },
     "output_type": "display_data"
    },
    {
     "data": {
      "image/png": "[encoded data removed]",
      "text/plain": [
       "<Figure size 432x288 with 1 Axes>"
      ]
     },
     "metadata": {
      "needs_background": "light"
     },
     "output_type": "display_data"
    }
   ],
   "source": [
    "sns.distplot(test_df['Var2'], fit=norm)\n",
    "fig = plt.figure()\n",
    "res = stats.probplot(test_df['Var2'], plot=plt)"
   ]
  },
  {
   "cell_type": "code",
   "execution_count": 15,
   "metadata": {},
   "outputs": [
    {
     "data": {
      "image/png": "[encoded data removed]",
      "text/plain": [
       "<Figure size 432x288 with 1 Axes>"
      ]
     },
     "metadata": {
      "needs_background": "light"
     },
     "output_type": "display_data"
    },
    {
     "data": {
      "image/png": "[encoded data removed]",
      "text/plain": [
       "<Figure size 432x288 with 1 Axes>"
      ]
     },
     "metadata": {
      "needs_background": "light"
     },
     "output_type": "display_data"
    }
   ],
   "source": [
    "sns.distplot(train_df['Var3'], fit=norm)\n",
    "fig = plt.figure()\n",
    "res = stats.probplot(train_df['Var3'], plot=plt)"
   ]
  },
  {
   "cell_type": "code",
   "execution_count": 22,
   "metadata": {},
   "outputs": [
    {
     "data": {
      "image/png": "[encoded data removed]",
      "text/plain": [
       "<Figure size 432x288 with 1 Axes>"
      ]
     },
     "metadata": {
      "needs_background": "light"
     },
     "output_type": "display_data"
    },
    {
     "data": {
      "image/png": "[encoded data removed]",
      "text/plain": [
       "<Figure size 432x288 with 1 Axes>"
      ]
     },
     "metadata": {
      "needs_background": "light"
     },
     "output_type": "display_data"
    }
   ],
   "source": [
    "sns.distplot(test_df['Var3'], fit=norm)\n",
    "fig = plt.figure()\n",
    "res = stats.probplot(test_df['Var3'], plot=plt)"
   ]
  },
  {
   "cell_type": "code",
   "execution_count": 16,
   "metadata": {},
   "outputs": [
    {
     "data": {
      "image/png": "[encoded data removed]",
      "text/plain": [
       "<Figure size 432x288 with 1 Axes>"
      ]
     },
     "metadata": {
      "needs_background": "light"
     },
     "output_type": "display_data"
    },
    {
     "data": {
      "image/png": "[encoded data removed]",
      "text/plain": [
       "<Figure size 432x288 with 1 Axes>"
      ]
     },
     "metadata": {
      "needs_background": "light"
     },
     "output_type": "display_data"
    }
   ],
   "source": [
    "sns.distplot(train_df['Trip_Distance'], fit=norm)\n",
    "fig = plt.figure()\n",
    "res = stats.probplot(train_df['Trip_Distance'], plot=plt)"
   ]
  },
  {
   "cell_type": "code",
   "execution_count": 3,
   "metadata": {},
   "outputs": [
    {
     "data": {
      "text/plain": [
       "<matplotlib.axes._subplots.AxesSubplot at 0x22780f49a08>"
      ]
     },
     "execution_count": 3,
     "metadata": {},
     "output_type": "execute_result"
    },
    {
     "data": {
      "image/png": "[encoded data removed]",
      "text/plain": [
       "<Figure size 432x288 with 1 Axes>"
      ]
     },
     "metadata": {
      "needs_background": "light"
     },
     "output_type": "display_data"
    }
   ],
   "source": [
    "train_df['Trip_band']=0\n",
    "train_df.loc[train_df['Trip_Distance']<=20,'Trip_band']=0\n",
    "train_df.loc[(train_df['Trip_Distance']>20)&(train_df['Trip_Distance']<=40),'Trip_band']=1\n",
    "train_df.loc[(train_df['Trip_Distance']>40)&(train_df['Trip_Distance']<=60),'Trip_band']=2\n",
    "train_df.loc[(train_df['Trip_Distance']>60)&(train_df['Trip_Distance']<=80),'Trip_band']=3\n",
    "train_df.loc[(train_df['Trip_Distance']>80)&(train_df['Trip_Distance']<=100),'Trip_band']=4\n",
    "train_df.loc[train_df['Trip_Distance']>100,'Trip_band']=5\n",
    "sns.countplot(x='Trip_band', data=train_df)"
   ]
  },
  {
   "cell_type": "code",
   "execution_count": 18,
   "metadata": {},
   "outputs": [
    {
     "data": {
      "image/png": "[encoded data removed]",
      "text/plain": [
       "<Figure size 432x288 with 1 Axes>"
      ]
     },
     "metadata": {
      "needs_background": "light"
     },
     "output_type": "display_data"
    },
    {
     "data": {
      "image/png": "[encoded data removed]",
      "text/plain": [
       "<Figure size 432x288 with 1 Axes>"
      ]
     },
     "metadata": {
      "needs_background": "light"
     },
     "output_type": "display_data"
    }
   ],
   "source": [
    "sns.distplot(train_df['Customer_Rating'], fit=norm)\n",
    "fig = plt.figure()\n",
    "res = stats.probplot(train_df['Customer_Rating'], plot=plt)"
   ]
  },
  {
   "cell_type": "code",
   "execution_count": 19,
   "metadata": {},
   "outputs": [
    {
     "data": {
      "text/plain": [
       "<matplotlib.axes._subplots.AxesSubplot at 0x22843059c48>"
      ]
     },
     "execution_count": 19,
     "metadata": {},
     "output_type": "execute_result"
    },
    {
     "data": {
      "image/png": "[encoded data removed]",
      "text/plain": [
       "<Figure size 432x288 with 1 Axes>"
      ]
     },
     "metadata": {
      "needs_background": "light"
     },
     "output_type": "display_data"
    }
   ],
   "source": [
    "sns.countplot(train_df['Cancellation_Last_1Month'])"
   ]
  },
  {
   "cell_type": "code",
   "execution_count": 23,
   "metadata": {},
   "outputs": [
    {
     "data": {
      "text/plain": [
       "<matplotlib.axes._subplots.AxesSubplot at 0x2283b655888>"
      ]
     },
     "execution_count": 23,
     "metadata": {},
     "output_type": "execute_result"
    },
    {
     "data": {
      "image/png": "[encoded data removed]",
      "text/plain": [
       "<Figure size 1080x864 with 2 Axes>"
      ]
     },
     "metadata": {
      "needs_background": "light"
     },
     "output_type": "display_data"
    }
   ],
   "source": [
    "corr = train_df.corr()\n",
    "plt.subplots(figsize=(15,12))\n",
    "sns.heatmap(corr, vmax=0.9, cmap=\"Blues\", square=True)"
   ]
  },
  {
   "cell_type": "code",
   "execution_count": 25,
   "metadata": {},
   "outputs": [
    {
     "data": {
      "text/html": [
       "<div>\n",
       "<style scoped>\n",
       "    .dataframe tbody tr th:only-of-type {\n",
       "        vertical-align: middle;\n",
       "    }\n",
       "\n",
       "    .dataframe tbody tr th {\n",
       "        vertical-align: top;\n",
       "    }\n",
       "\n",
       "    .dataframe thead th {\n",
       "        text-align: right;\n",
       "    }\n",
       "</style>\n",
       "<table border=\"1\" class=\"dataframe\">\n",
       "  <thead>\n",
       "    <tr style=\"text-align: right;\">\n",
       "      <th></th>\n",
       "      <th>Trip_ID</th>\n",
       "      <th>Trip_Distance</th>\n",
       "      <th>Type_of_Cab</th>\n",
       "      <th>Customer_Since_Months</th>\n",
       "      <th>Life_Style_Index</th>\n",
       "      <th>Confidence_Life_Style_Index</th>\n",
       "      <th>Destination_Type</th>\n",
       "      <th>Customer_Rating</th>\n",
       "      <th>Cancellation_Last_1Month</th>\n",
       "      <th>Var1</th>\n",
       "      <th>Var2</th>\n",
       "      <th>Var3</th>\n",
       "      <th>Gender</th>\n",
       "      <th>Surge_Pricing_Type</th>\n",
       "      <th>Trip_band</th>\n",
       "    </tr>\n",
       "  </thead>\n",
       "  <tbody>\n",
       "    <tr>\n",
       "      <th>0</th>\n",
       "      <td>T0005689460</td>\n",
       "      <td>6.77</td>\n",
       "      <td>B</td>\n",
       "      <td>1.0</td>\n",
       "      <td>2.42769</td>\n",
       "      <td>A</td>\n",
       "      <td>A</td>\n",
       "      <td>3.90500</td>\n",
       "      <td>0</td>\n",
       "      <td>40.0</td>\n",
       "      <td>46</td>\n",
       "      <td>60</td>\n",
       "      <td>Female</td>\n",
       "      <td>2</td>\n",
       "      <td>0</td>\n",
       "    </tr>\n",
       "    <tr>\n",
       "      <th>1</th>\n",
       "      <td>T0005689461</td>\n",
       "      <td>29.47</td>\n",
       "      <td>B</td>\n",
       "      <td>10.0</td>\n",
       "      <td>2.78245</td>\n",
       "      <td>B</td>\n",
       "      <td>A</td>\n",
       "      <td>3.45000</td>\n",
       "      <td>0</td>\n",
       "      <td>38.0</td>\n",
       "      <td>56</td>\n",
       "      <td>78</td>\n",
       "      <td>Male</td>\n",
       "      <td>2</td>\n",
       "      <td>1</td>\n",
       "    </tr>\n",
       "    <tr>\n",
       "      <th>2</th>\n",
       "      <td>T0005689464</td>\n",
       "      <td>41.58</td>\n",
       "      <td>NaN</td>\n",
       "      <td>10.0</td>\n",
       "      <td>NaN</td>\n",
       "      <td>NaN</td>\n",
       "      <td>E</td>\n",
       "      <td>3.50125</td>\n",
       "      <td>2</td>\n",
       "      <td>NaN</td>\n",
       "      <td>56</td>\n",
       "      <td>77</td>\n",
       "      <td>Male</td>\n",
       "      <td>2</td>\n",
       "      <td>2</td>\n",
       "    </tr>\n",
       "    <tr>\n",
       "      <th>3</th>\n",
       "      <td>T0005689465</td>\n",
       "      <td>61.56</td>\n",
       "      <td>C</td>\n",
       "      <td>10.0</td>\n",
       "      <td>NaN</td>\n",
       "      <td>NaN</td>\n",
       "      <td>A</td>\n",
       "      <td>3.45375</td>\n",
       "      <td>0</td>\n",
       "      <td>NaN</td>\n",
       "      <td>52</td>\n",
       "      <td>74</td>\n",
       "      <td>Male</td>\n",
       "      <td>3</td>\n",
       "      <td>3</td>\n",
       "    </tr>\n",
       "    <tr>\n",
       "      <th>4</th>\n",
       "      <td>T0005689467</td>\n",
       "      <td>54.95</td>\n",
       "      <td>C</td>\n",
       "      <td>10.0</td>\n",
       "      <td>3.03453</td>\n",
       "      <td>B</td>\n",
       "      <td>A</td>\n",
       "      <td>3.40250</td>\n",
       "      <td>4</td>\n",
       "      <td>51.0</td>\n",
       "      <td>49</td>\n",
       "      <td>102</td>\n",
       "      <td>Male</td>\n",
       "      <td>2</td>\n",
       "      <td>2</td>\n",
       "    </tr>\n",
       "    <tr>\n",
       "      <th>5</th>\n",
       "      <td>T0005689469</td>\n",
       "      <td>19.06</td>\n",
       "      <td>E</td>\n",
       "      <td>10.0</td>\n",
       "      <td>NaN</td>\n",
       "      <td>NaN</td>\n",
       "      <td>A</td>\n",
       "      <td>2.59750</td>\n",
       "      <td>1</td>\n",
       "      <td>72.0</td>\n",
       "      <td>63</td>\n",
       "      <td>91</td>\n",
       "      <td>Male</td>\n",
       "      <td>3</td>\n",
       "      <td>0</td>\n",
       "    </tr>\n",
       "    <tr>\n",
       "      <th>6</th>\n",
       "      <td>T0005689470</td>\n",
       "      <td>29.72</td>\n",
       "      <td>E</td>\n",
       "      <td>10.0</td>\n",
       "      <td>2.83958</td>\n",
       "      <td>C</td>\n",
       "      <td>B</td>\n",
       "      <td>2.97500</td>\n",
       "      <td>1</td>\n",
       "      <td>83.0</td>\n",
       "      <td>50</td>\n",
       "      <td>75</td>\n",
       "      <td>Male</td>\n",
       "      <td>2</td>\n",
       "      <td>1</td>\n",
       "    </tr>\n",
       "    <tr>\n",
       "      <th>7</th>\n",
       "      <td>T0005689472</td>\n",
       "      <td>18.44</td>\n",
       "      <td>B</td>\n",
       "      <td>2.0</td>\n",
       "      <td>2.81871</td>\n",
       "      <td>B</td>\n",
       "      <td>A</td>\n",
       "      <td>3.58250</td>\n",
       "      <td>0</td>\n",
       "      <td>103.0</td>\n",
       "      <td>46</td>\n",
       "      <td>63</td>\n",
       "      <td>Male</td>\n",
       "      <td>2</td>\n",
       "      <td>0</td>\n",
       "    </tr>\n",
       "    <tr>\n",
       "      <th>8</th>\n",
       "      <td>T0005689473</td>\n",
       "      <td>106.80</td>\n",
       "      <td>C</td>\n",
       "      <td>3.0</td>\n",
       "      <td>NaN</td>\n",
       "      <td>NaN</td>\n",
       "      <td>A</td>\n",
       "      <td>3.14625</td>\n",
       "      <td>0</td>\n",
       "      <td>NaN</td>\n",
       "      <td>58</td>\n",
       "      <td>92</td>\n",
       "      <td>Male</td>\n",
       "      <td>2</td>\n",
       "      <td>5</td>\n",
       "    </tr>\n",
       "    <tr>\n",
       "      <th>9</th>\n",
       "      <td>T0005689474</td>\n",
       "      <td>107.19</td>\n",
       "      <td>D</td>\n",
       "      <td>5.0</td>\n",
       "      <td>3.04467</td>\n",
       "      <td>B</td>\n",
       "      <td>A</td>\n",
       "      <td>2.44375</td>\n",
       "      <td>1</td>\n",
       "      <td>NaN</td>\n",
       "      <td>58</td>\n",
       "      <td>83</td>\n",
       "      <td>Male</td>\n",
       "      <td>3</td>\n",
       "      <td>5</td>\n",
       "    </tr>\n",
       "  </tbody>\n",
       "</table>\n",
       "</div>"
      ],
      "text/plain": [
       "       Trip_ID  Trip_Distance Type_of_Cab  Customer_Since_Months  \\\n",
       "0  T0005689460           6.77           B                    1.0   \n",
       "1  T0005689461          29.47           B                   10.0   \n",
       "2  T0005689464          41.58         NaN                   10.0   \n",
       "3  T0005689465          61.56           C                   10.0   \n",
       "4  T0005689467          54.95           C                   10.0   \n",
       "5  T0005689469          19.06           E                   10.0   \n",
       "6  T0005689470          29.72           E                   10.0   \n",
       "7  T0005689472          18.44           B                    2.0   \n",
       "8  T0005689473         106.80           C                    3.0   \n",
       "9  T0005689474         107.19           D                    5.0   \n",
       "\n",
       "   Life_Style_Index Confidence_Life_Style_Index Destination_Type  \\\n",
       "0           2.42769                           A                A   \n",
       "1           2.78245                           B                A   \n",
       "2               NaN                         NaN                E   \n",
       "3               NaN                         NaN                A   \n",
       "4           3.03453                           B                A   \n",
       "5               NaN                         NaN                A   \n",
       "6           2.83958                           C                B   \n",
       "7           2.81871                           B                A   \n",
       "8               NaN                         NaN                A   \n",
       "9           3.04467                           B                A   \n",
       "\n",
       "   Customer_Rating  Cancellation_Last_1Month   Var1  Var2  Var3  Gender  \\\n",
       "0          3.90500                         0   40.0    46    60  Female   \n",
       "1          3.45000                         0   38.0    56    78    Male   \n",
       "2          3.50125                         2    NaN    56    77    Male   \n",
       "3          3.45375                         0    NaN    52    74    Male   \n",
       "4          3.40250                         4   51.0    49   102    Male   \n",
       "5          2.59750                         1   72.0    63    91    Male   \n",
       "6          2.97500                         1   83.0    50    75    Male   \n",
       "7          3.58250                         0  103.0    46    63    Male   \n",
       "8          3.14625                         0    NaN    58    92    Male   \n",
       "9          2.44375                         1    NaN    58    83    Male   \n",
       "\n",
       "   Surge_Pricing_Type  Trip_band  \n",
       "0                   2          0  \n",
       "1                   2          1  \n",
       "2                   2          2  \n",
       "3                   3          3  \n",
       "4                   2          2  \n",
       "5                   3          0  \n",
       "6                   2          1  \n",
       "7                   2          0  \n",
       "8                   2          5  \n",
       "9                   3          5  "
      ]
     },
     "execution_count": 25,
     "metadata": {},
     "output_type": "execute_result"
    }
   ],
   "source": [
    "train_df.head(10)"
   ]
  },
  {
   "cell_type": "code",
   "execution_count": 26,
   "metadata": {},
   "outputs": [
    {
     "data": {
      "text/html": [
       "<div>\n",
       "<style scoped>\n",
       "    .dataframe tbody tr th:only-of-type {\n",
       "        vertical-align: middle;\n",
       "    }\n",
       "\n",
       "    .dataframe tbody tr th {\n",
       "        vertical-align: top;\n",
       "    }\n",
       "\n",
       "    .dataframe thead th {\n",
       "        text-align: right;\n",
       "    }\n",
       "</style>\n",
       "<table border=\"1\" class=\"dataframe\">\n",
       "  <thead>\n",
       "    <tr style=\"text-align: right;\">\n",
       "      <th></th>\n",
       "      <th>Trip_Distance</th>\n",
       "      <th>Customer_Since_Months</th>\n",
       "      <th>Life_Style_Index</th>\n",
       "      <th>Customer_Rating</th>\n",
       "      <th>Cancellation_Last_1Month</th>\n",
       "      <th>Var1</th>\n",
       "      <th>Var2</th>\n",
       "      <th>Var3</th>\n",
       "      <th>Surge_Pricing_Type</th>\n",
       "      <th>Trip_band</th>\n",
       "    </tr>\n",
       "  </thead>\n",
       "  <tbody>\n",
       "    <tr>\n",
       "      <th>count</th>\n",
       "      <td>131662.000000</td>\n",
       "      <td>125742.000000</td>\n",
       "      <td>111469.000000</td>\n",
       "      <td>131662.000000</td>\n",
       "      <td>131662.000000</td>\n",
       "      <td>60632.000000</td>\n",
       "      <td>131662.000000</td>\n",
       "      <td>131662.000000</td>\n",
       "      <td>131662.000000</td>\n",
       "      <td>131662.000000</td>\n",
       "    </tr>\n",
       "    <tr>\n",
       "      <th>mean</th>\n",
       "      <td>44.200909</td>\n",
       "      <td>6.016661</td>\n",
       "      <td>2.802064</td>\n",
       "      <td>2.849458</td>\n",
       "      <td>0.782838</td>\n",
       "      <td>64.202698</td>\n",
       "      <td>51.202800</td>\n",
       "      <td>75.099019</td>\n",
       "      <td>2.155747</td>\n",
       "      <td>1.709377</td>\n",
       "    </tr>\n",
       "    <tr>\n",
       "      <th>std</th>\n",
       "      <td>25.522882</td>\n",
       "      <td>3.626887</td>\n",
       "      <td>0.225796</td>\n",
       "      <td>0.980675</td>\n",
       "      <td>1.037559</td>\n",
       "      <td>21.820447</td>\n",
       "      <td>4.986142</td>\n",
       "      <td>11.578278</td>\n",
       "      <td>0.738164</td>\n",
       "      <td>1.326931</td>\n",
       "    </tr>\n",
       "    <tr>\n",
       "      <th>min</th>\n",
       "      <td>0.310000</td>\n",
       "      <td>0.000000</td>\n",
       "      <td>1.596380</td>\n",
       "      <td>0.001250</td>\n",
       "      <td>0.000000</td>\n",
       "      <td>30.000000</td>\n",
       "      <td>40.000000</td>\n",
       "      <td>52.000000</td>\n",
       "      <td>1.000000</td>\n",
       "      <td>0.000000</td>\n",
       "    </tr>\n",
       "    <tr>\n",
       "      <th>25%</th>\n",
       "      <td>24.580000</td>\n",
       "      <td>3.000000</td>\n",
       "      <td>2.654730</td>\n",
       "      <td>2.152500</td>\n",
       "      <td>0.000000</td>\n",
       "      <td>46.000000</td>\n",
       "      <td>48.000000</td>\n",
       "      <td>67.000000</td>\n",
       "      <td>2.000000</td>\n",
       "      <td>1.000000</td>\n",
       "    </tr>\n",
       "    <tr>\n",
       "      <th>50%</th>\n",
       "      <td>38.200000</td>\n",
       "      <td>6.000000</td>\n",
       "      <td>2.798050</td>\n",
       "      <td>2.895000</td>\n",
       "      <td>0.000000</td>\n",
       "      <td>61.000000</td>\n",
       "      <td>50.000000</td>\n",
       "      <td>74.000000</td>\n",
       "      <td>2.000000</td>\n",
       "      <td>1.000000</td>\n",
       "    </tr>\n",
       "    <tr>\n",
       "      <th>75%</th>\n",
       "      <td>60.730000</td>\n",
       "      <td>10.000000</td>\n",
       "      <td>2.946780</td>\n",
       "      <td>3.582500</td>\n",
       "      <td>1.000000</td>\n",
       "      <td>80.000000</td>\n",
       "      <td>54.000000</td>\n",
       "      <td>82.000000</td>\n",
       "      <td>3.000000</td>\n",
       "      <td>3.000000</td>\n",
       "    </tr>\n",
       "    <tr>\n",
       "      <th>max</th>\n",
       "      <td>109.230000</td>\n",
       "      <td>10.000000</td>\n",
       "      <td>4.875110</td>\n",
       "      <td>5.000000</td>\n",
       "      <td>8.000000</td>\n",
       "      <td>210.000000</td>\n",
       "      <td>124.000000</td>\n",
       "      <td>206.000000</td>\n",
       "      <td>3.000000</td>\n",
       "      <td>5.000000</td>\n",
       "    </tr>\n",
       "  </tbody>\n",
       "</table>\n",
       "</div>"
      ],
      "text/plain": [
       "       Trip_Distance  Customer_Since_Months  Life_Style_Index  \\\n",
       "count  131662.000000          125742.000000     111469.000000   \n",
       "mean       44.200909               6.016661          2.802064   \n",
       "std        25.522882               3.626887          0.225796   \n",
       "min         0.310000               0.000000          1.596380   \n",
       "25%        24.580000               3.000000          2.654730   \n",
       "50%        38.200000               6.000000          2.798050   \n",
       "75%        60.730000              10.000000          2.946780   \n",
       "max       109.230000              10.000000          4.875110   \n",
       "\n",
       "       Customer_Rating  Cancellation_Last_1Month          Var1           Var2  \\\n",
       "count    131662.000000             131662.000000  60632.000000  131662.000000   \n",
       "mean          2.849458                  0.782838     64.202698      51.202800   \n",
       "std           0.980675                  1.037559     21.820447       4.986142   \n",
       "min           0.001250                  0.000000     30.000000      40.000000   \n",
       "25%           2.152500                  0.000000     46.000000      48.000000   \n",
       "50%           2.895000                  0.000000     61.000000      50.000000   \n",
       "75%           3.582500                  1.000000     80.000000      54.000000   \n",
       "max           5.000000                  8.000000    210.000000     124.000000   \n",
       "\n",
       "                Var3  Surge_Pricing_Type      Trip_band  \n",
       "count  131662.000000       131662.000000  131662.000000  \n",
       "mean       75.099019            2.155747       1.709377  \n",
       "std        11.578278            0.738164       1.326931  \n",
       "min        52.000000            1.000000       0.000000  \n",
       "25%        67.000000            2.000000       1.000000  \n",
       "50%        74.000000            2.000000       1.000000  \n",
       "75%        82.000000            3.000000       3.000000  \n",
       "max       206.000000            3.000000       5.000000  "
      ]
     },
     "execution_count": 26,
     "metadata": {},
     "output_type": "execute_result"
    }
   ],
   "source": [
    "train_df.describe()"
   ]
  },
  {
   "cell_type": "code",
   "execution_count": 36,
   "metadata": {},
   "outputs": [
    {
     "data": {
      "text/html": [
       "<div>\n",
       "<style scoped>\n",
       "    .dataframe tbody tr th:only-of-type {\n",
       "        vertical-align: middle;\n",
       "    }\n",
       "\n",
       "    .dataframe tbody tr th {\n",
       "        vertical-align: top;\n",
       "    }\n",
       "\n",
       "    .dataframe thead th {\n",
       "        text-align: right;\n",
       "    }\n",
       "</style>\n",
       "<table border=\"1\" class=\"dataframe\">\n",
       "  <thead>\n",
       "    <tr style=\"text-align: right;\">\n",
       "      <th></th>\n",
       "      <th>Train</th>\n",
       "      <th>Test</th>\n",
       "    </tr>\n",
       "  </thead>\n",
       "  <tbody>\n",
       "    <tr>\n",
       "      <th>Type_of_Cab</th>\n",
       "      <td>0.0</td>\n",
       "      <td>13158.0</td>\n",
       "    </tr>\n",
       "    <tr>\n",
       "      <th>Customer_Since_Months</th>\n",
       "      <td>0.0</td>\n",
       "      <td>3966.0</td>\n",
       "    </tr>\n",
       "    <tr>\n",
       "      <th>Life_Style_Index</th>\n",
       "      <td>0.0</td>\n",
       "      <td>13327.0</td>\n",
       "    </tr>\n",
       "    <tr>\n",
       "      <th>Confidence_Life_Style_Index</th>\n",
       "      <td>0.0</td>\n",
       "      <td>13327.0</td>\n",
       "    </tr>\n",
       "    <tr>\n",
       "      <th>Var1</th>\n",
       "      <td>NaN</td>\n",
       "      <td>46789.0</td>\n",
       "    </tr>\n",
       "  </tbody>\n",
       "</table>\n",
       "</div>"
      ],
      "text/plain": [
       "                             Train     Test\n",
       "Type_of_Cab                    0.0  13158.0\n",
       "Customer_Since_Months          0.0   3966.0\n",
       "Life_Style_Index               0.0  13327.0\n",
       "Confidence_Life_Style_Index    0.0  13327.0\n",
       "Var1                           NaN  46789.0"
      ]
     },
     "execution_count": 36,
     "metadata": {},
     "output_type": "execute_result"
    }
   ],
   "source": [
    "missing_val = pd.concat([train_df.isnull().sum(), test_df.isnull().sum()], axis=1, keys=['Train', 'Test'])\n",
    "missing_val[missing_val.sum(axis=1) > 0]\n",
    "# 19749 - 15% of Train\n",
    "# 13109 - 15% of Test"
   ]
  },
  {
   "cell_type": "code",
   "execution_count": 4,
   "metadata": {},
   "outputs": [],
   "source": [
    "train_df['Type_of_Cab'] = train_df['Type_of_Cab'].replace(np.nan, 'Unknown', regex=True)\n",
    "train_df['Confidence_Life_Style_Index'] = train_df['Confidence_Life_Style_Index'].replace(np.nan, 'Unknown', regex=True)\n",
    "train_df['Life_Style_Index'].fillna((train_df['Life_Style_Index'].mean()), inplace=True)\n",
    "train_df = train_df.apply(lambda x:x.fillna(x.value_counts().index[0]))"
   ]
  },
  {
   "cell_type": "code",
   "execution_count": 5,
   "metadata": {},
   "outputs": [],
   "source": [
    "train_df.drop(['Var1'],axis=1,inplace=True)"
   ]
  },
  {
   "cell_type": "code",
   "execution_count": 6,
   "metadata": {},
   "outputs": [
    {
     "data": {
      "text/plain": [
       "(131662, 14)"
      ]
     },
     "execution_count": 6,
     "metadata": {},
     "output_type": "execute_result"
    }
   ],
   "source": [
    "train_df.shape"
   ]
  },
  {
   "cell_type": "code",
   "execution_count": 7,
   "metadata": {},
   "outputs": [],
   "source": [
    "from sklearn.preprocessing import LabelEncoder\n",
    "label_x = LabelEncoder()"
   ]
  },
  {
   "cell_type": "code",
   "execution_count": 40,
   "metadata": {},
   "outputs": [
    {
     "data": {
      "text/html": [
       "<div>\n",
       "<style scoped>\n",
       "    .dataframe tbody tr th:only-of-type {\n",
       "        vertical-align: middle;\n",
       "    }\n",
       "\n",
       "    .dataframe tbody tr th {\n",
       "        vertical-align: top;\n",
       "    }\n",
       "\n",
       "    .dataframe thead th {\n",
       "        text-align: right;\n",
       "    }\n",
       "</style>\n",
       "<table border=\"1\" class=\"dataframe\">\n",
       "  <thead>\n",
       "    <tr style=\"text-align: right;\">\n",
       "      <th></th>\n",
       "      <th>Trip_ID</th>\n",
       "      <th>Trip_Distance</th>\n",
       "      <th>Type_of_Cab</th>\n",
       "      <th>Customer_Since_Months</th>\n",
       "      <th>Life_Style_Index</th>\n",
       "      <th>Confidence_Life_Style_Index</th>\n",
       "      <th>Destination_Type</th>\n",
       "      <th>Customer_Rating</th>\n",
       "      <th>Cancellation_Last_1Month</th>\n",
       "      <th>Var2</th>\n",
       "      <th>Var3</th>\n",
       "      <th>Gender</th>\n",
       "      <th>Surge_Pricing_Type</th>\n",
       "      <th>Trip_band</th>\n",
       "    </tr>\n",
       "  </thead>\n",
       "  <tbody>\n",
       "    <tr>\n",
       "      <th>0</th>\n",
       "      <td>0</td>\n",
       "      <td>6.77</td>\n",
       "      <td>1</td>\n",
       "      <td>1.0</td>\n",
       "      <td>2.427690</td>\n",
       "      <td>0</td>\n",
       "      <td>0</td>\n",
       "      <td>3.90500</td>\n",
       "      <td>0</td>\n",
       "      <td>46</td>\n",
       "      <td>60</td>\n",
       "      <td>0</td>\n",
       "      <td>2</td>\n",
       "      <td>0</td>\n",
       "    </tr>\n",
       "    <tr>\n",
       "      <th>1</th>\n",
       "      <td>1</td>\n",
       "      <td>29.47</td>\n",
       "      <td>1</td>\n",
       "      <td>10.0</td>\n",
       "      <td>2.782450</td>\n",
       "      <td>1</td>\n",
       "      <td>0</td>\n",
       "      <td>3.45000</td>\n",
       "      <td>0</td>\n",
       "      <td>56</td>\n",
       "      <td>78</td>\n",
       "      <td>1</td>\n",
       "      <td>2</td>\n",
       "      <td>1</td>\n",
       "    </tr>\n",
       "    <tr>\n",
       "      <th>2</th>\n",
       "      <td>2</td>\n",
       "      <td>41.58</td>\n",
       "      <td>5</td>\n",
       "      <td>10.0</td>\n",
       "      <td>2.802064</td>\n",
       "      <td>3</td>\n",
       "      <td>4</td>\n",
       "      <td>3.50125</td>\n",
       "      <td>2</td>\n",
       "      <td>56</td>\n",
       "      <td>77</td>\n",
       "      <td>1</td>\n",
       "      <td>2</td>\n",
       "      <td>2</td>\n",
       "    </tr>\n",
       "    <tr>\n",
       "      <th>3</th>\n",
       "      <td>3</td>\n",
       "      <td>61.56</td>\n",
       "      <td>2</td>\n",
       "      <td>10.0</td>\n",
       "      <td>2.802064</td>\n",
       "      <td>3</td>\n",
       "      <td>0</td>\n",
       "      <td>3.45375</td>\n",
       "      <td>0</td>\n",
       "      <td>52</td>\n",
       "      <td>74</td>\n",
       "      <td>1</td>\n",
       "      <td>3</td>\n",
       "      <td>3</td>\n",
       "    </tr>\n",
       "    <tr>\n",
       "      <th>4</th>\n",
       "      <td>4</td>\n",
       "      <td>54.95</td>\n",
       "      <td>2</td>\n",
       "      <td>10.0</td>\n",
       "      <td>3.034530</td>\n",
       "      <td>1</td>\n",
       "      <td>0</td>\n",
       "      <td>3.40250</td>\n",
       "      <td>4</td>\n",
       "      <td>49</td>\n",
       "      <td>102</td>\n",
       "      <td>1</td>\n",
       "      <td>2</td>\n",
       "      <td>2</td>\n",
       "    </tr>\n",
       "  </tbody>\n",
       "</table>\n",
       "</div>"
      ],
      "text/plain": [
       "   Trip_ID  Trip_Distance  Type_of_Cab  Customer_Since_Months  \\\n",
       "0        0           6.77            1                    1.0   \n",
       "1        1          29.47            1                   10.0   \n",
       "2        2          41.58            5                   10.0   \n",
       "3        3          61.56            2                   10.0   \n",
       "4        4          54.95            2                   10.0   \n",
       "\n",
       "   Life_Style_Index  Confidence_Life_Style_Index  Destination_Type  \\\n",
       "0          2.427690                            0                 0   \n",
       "1          2.782450                            1                 0   \n",
       "2          2.802064                            3                 4   \n",
       "3          2.802064                            3                 0   \n",
       "4          3.034530                            1                 0   \n",
       "\n",
       "   Customer_Rating  Cancellation_Last_1Month  Var2  Var3  Gender  \\\n",
       "0          3.90500                         0    46    60       0   \n",
       "1          3.45000                         0    56    78       1   \n",
       "2          3.50125                         2    56    77       1   \n",
       "3          3.45375                         0    52    74       1   \n",
       "4          3.40250                         4    49   102       1   \n",
       "\n",
       "   Surge_Pricing_Type  Trip_band  \n",
       "0                   2          0  \n",
       "1                   2          1  \n",
       "2                   2          2  \n",
       "3                   3          3  \n",
       "4                   2          2  "
      ]
     },
     "execution_count": 40,
     "metadata": {},
     "output_type": "execute_result"
    }
   ],
   "source": [
    "train_df.head()"
   ]
  },
  {
   "cell_type": "code",
   "execution_count": 8,
   "metadata": {},
   "outputs": [],
   "source": [
    "train_df.iloc[:,0]=label_x.fit_transform(train_df.iloc[:,0])\n",
    "train_df.iloc[:,2]=label_x.fit_transform(train_df.iloc[:,2])\n",
    "train_df.iloc[:,5]=label_x.fit_transform(train_df.iloc[:,5])\n",
    "train_df.iloc[:,6]=label_x.fit_transform(train_df.iloc[:,6])\n",
    "train_df.iloc[:,11]=label_x.fit_transform(train_df.iloc[:,11])"
   ]
  },
  {
   "cell_type": "code",
   "execution_count": 9,
   "metadata": {},
   "outputs": [],
   "source": [
    "X=np.zeros((131662, 14))\n",
    "y=np.zeros((131662, 1))\n",
    "X=train_df.iloc[:,0:]\n",
    "y=train_df['Surge_Pricing_Type']\n",
    "X.drop(['Surge_Pricing_Type'],axis=1,inplace=True)"
   ]
  },
  {
   "cell_type": "code",
   "execution_count": 10,
   "metadata": {},
   "outputs": [
    {
     "data": {
      "text/html": [
       "<div>\n",
       "<style scoped>\n",
       "    .dataframe tbody tr th:only-of-type {\n",
       "        vertical-align: middle;\n",
       "    }\n",
       "\n",
       "    .dataframe tbody tr th {\n",
       "        vertical-align: top;\n",
       "    }\n",
       "\n",
       "    .dataframe thead th {\n",
       "        text-align: right;\n",
       "    }\n",
       "</style>\n",
       "<table border=\"1\" class=\"dataframe\">\n",
       "  <thead>\n",
       "    <tr style=\"text-align: right;\">\n",
       "      <th></th>\n",
       "      <th>Trip_ID</th>\n",
       "      <th>Trip_Distance</th>\n",
       "      <th>Type_of_Cab</th>\n",
       "      <th>Customer_Since_Months</th>\n",
       "      <th>Life_Style_Index</th>\n",
       "      <th>Confidence_Life_Style_Index</th>\n",
       "      <th>Destination_Type</th>\n",
       "      <th>Customer_Rating</th>\n",
       "      <th>Cancellation_Last_1Month</th>\n",
       "      <th>Var2</th>\n",
       "      <th>Var3</th>\n",
       "      <th>Gender</th>\n",
       "      <th>Trip_band</th>\n",
       "    </tr>\n",
       "  </thead>\n",
       "  <tbody>\n",
       "    <tr>\n",
       "      <th>0</th>\n",
       "      <td>0</td>\n",
       "      <td>6.77</td>\n",
       "      <td>1</td>\n",
       "      <td>1.0</td>\n",
       "      <td>2.427690</td>\n",
       "      <td>0</td>\n",
       "      <td>0</td>\n",
       "      <td>3.90500</td>\n",
       "      <td>0</td>\n",
       "      <td>46</td>\n",
       "      <td>60</td>\n",
       "      <td>0</td>\n",
       "      <td>0</td>\n",
       "    </tr>\n",
       "    <tr>\n",
       "      <th>1</th>\n",
       "      <td>1</td>\n",
       "      <td>29.47</td>\n",
       "      <td>1</td>\n",
       "      <td>10.0</td>\n",
       "      <td>2.782450</td>\n",
       "      <td>1</td>\n",
       "      <td>0</td>\n",
       "      <td>3.45000</td>\n",
       "      <td>0</td>\n",
       "      <td>56</td>\n",
       "      <td>78</td>\n",
       "      <td>1</td>\n",
       "      <td>1</td>\n",
       "    </tr>\n",
       "    <tr>\n",
       "      <th>2</th>\n",
       "      <td>2</td>\n",
       "      <td>41.58</td>\n",
       "      <td>5</td>\n",
       "      <td>10.0</td>\n",
       "      <td>2.802064</td>\n",
       "      <td>3</td>\n",
       "      <td>4</td>\n",
       "      <td>3.50125</td>\n",
       "      <td>2</td>\n",
       "      <td>56</td>\n",
       "      <td>77</td>\n",
       "      <td>1</td>\n",
       "      <td>2</td>\n",
       "    </tr>\n",
       "    <tr>\n",
       "      <th>3</th>\n",
       "      <td>3</td>\n",
       "      <td>61.56</td>\n",
       "      <td>2</td>\n",
       "      <td>10.0</td>\n",
       "      <td>2.802064</td>\n",
       "      <td>3</td>\n",
       "      <td>0</td>\n",
       "      <td>3.45375</td>\n",
       "      <td>0</td>\n",
       "      <td>52</td>\n",
       "      <td>74</td>\n",
       "      <td>1</td>\n",
       "      <td>3</td>\n",
       "    </tr>\n",
       "    <tr>\n",
       "      <th>4</th>\n",
       "      <td>4</td>\n",
       "      <td>54.95</td>\n",
       "      <td>2</td>\n",
       "      <td>10.0</td>\n",
       "      <td>3.034530</td>\n",
       "      <td>1</td>\n",
       "      <td>0</td>\n",
       "      <td>3.40250</td>\n",
       "      <td>4</td>\n",
       "      <td>49</td>\n",
       "      <td>102</td>\n",
       "      <td>1</td>\n",
       "      <td>2</td>\n",
       "    </tr>\n",
       "    <tr>\n",
       "      <th>5</th>\n",
       "      <td>5</td>\n",
       "      <td>19.06</td>\n",
       "      <td>4</td>\n",
       "      <td>10.0</td>\n",
       "      <td>2.802064</td>\n",
       "      <td>3</td>\n",
       "      <td>0</td>\n",
       "      <td>2.59750</td>\n",
       "      <td>1</td>\n",
       "      <td>63</td>\n",
       "      <td>91</td>\n",
       "      <td>1</td>\n",
       "      <td>0</td>\n",
       "    </tr>\n",
       "    <tr>\n",
       "      <th>6</th>\n",
       "      <td>6</td>\n",
       "      <td>29.72</td>\n",
       "      <td>4</td>\n",
       "      <td>10.0</td>\n",
       "      <td>2.839580</td>\n",
       "      <td>2</td>\n",
       "      <td>1</td>\n",
       "      <td>2.97500</td>\n",
       "      <td>1</td>\n",
       "      <td>50</td>\n",
       "      <td>75</td>\n",
       "      <td>1</td>\n",
       "      <td>1</td>\n",
       "    </tr>\n",
       "    <tr>\n",
       "      <th>7</th>\n",
       "      <td>7</td>\n",
       "      <td>18.44</td>\n",
       "      <td>1</td>\n",
       "      <td>2.0</td>\n",
       "      <td>2.818710</td>\n",
       "      <td>1</td>\n",
       "      <td>0</td>\n",
       "      <td>3.58250</td>\n",
       "      <td>0</td>\n",
       "      <td>46</td>\n",
       "      <td>63</td>\n",
       "      <td>1</td>\n",
       "      <td>0</td>\n",
       "    </tr>\n",
       "    <tr>\n",
       "      <th>8</th>\n",
       "      <td>8</td>\n",
       "      <td>106.80</td>\n",
       "      <td>2</td>\n",
       "      <td>3.0</td>\n",
       "      <td>2.802064</td>\n",
       "      <td>3</td>\n",
       "      <td>0</td>\n",
       "      <td>3.14625</td>\n",
       "      <td>0</td>\n",
       "      <td>58</td>\n",
       "      <td>92</td>\n",
       "      <td>1</td>\n",
       "      <td>5</td>\n",
       "    </tr>\n",
       "    <tr>\n",
       "      <th>9</th>\n",
       "      <td>9</td>\n",
       "      <td>107.19</td>\n",
       "      <td>3</td>\n",
       "      <td>5.0</td>\n",
       "      <td>3.044670</td>\n",
       "      <td>1</td>\n",
       "      <td>0</td>\n",
       "      <td>2.44375</td>\n",
       "      <td>1</td>\n",
       "      <td>58</td>\n",
       "      <td>83</td>\n",
       "      <td>1</td>\n",
       "      <td>5</td>\n",
       "    </tr>\n",
       "  </tbody>\n",
       "</table>\n",
       "</div>"
      ],
      "text/plain": [
       "   Trip_ID  Trip_Distance  Type_of_Cab  Customer_Since_Months  \\\n",
       "0        0           6.77            1                    1.0   \n",
       "1        1          29.47            1                   10.0   \n",
       "2        2          41.58            5                   10.0   \n",
       "3        3          61.56            2                   10.0   \n",
       "4        4          54.95            2                   10.0   \n",
       "5        5          19.06            4                   10.0   \n",
       "6        6          29.72            4                   10.0   \n",
       "7        7          18.44            1                    2.0   \n",
       "8        8         106.80            2                    3.0   \n",
       "9        9         107.19            3                    5.0   \n",
       "\n",
       "   Life_Style_Index  Confidence_Life_Style_Index  Destination_Type  \\\n",
       "0          2.427690                            0                 0   \n",
       "1          2.782450                            1                 0   \n",
       "2          2.802064                            3                 4   \n",
       "3          2.802064                            3                 0   \n",
       "4          3.034530                            1                 0   \n",
       "5          2.802064                            3                 0   \n",
       "6          2.839580                            2                 1   \n",
       "7          2.818710                            1                 0   \n",
       "8          2.802064                            3                 0   \n",
       "9          3.044670                            1                 0   \n",
       "\n",
       "   Customer_Rating  Cancellation_Last_1Month  Var2  Var3  Gender  Trip_band  \n",
       "0          3.90500                         0    46    60       0          0  \n",
       "1          3.45000                         0    56    78       1          1  \n",
       "2          3.50125                         2    56    77       1          2  \n",
       "3          3.45375                         0    52    74       1          3  \n",
       "4          3.40250                         4    49   102       1          2  \n",
       "5          2.59750                         1    63    91       1          0  \n",
       "6          2.97500                         1    50    75       1          1  \n",
       "7          3.58250                         0    46    63       1          0  \n",
       "8          3.14625                         0    58    92       1          5  \n",
       "9          2.44375                         1    58    83       1          5  "
      ]
     },
     "execution_count": 10,
     "metadata": {},
     "output_type": "execute_result"
    }
   ],
   "source": [
    "X.head(10)"
   ]
  },
  {
   "cell_type": "code",
   "execution_count": 43,
   "metadata": {},
   "outputs": [
    {
     "data": {
      "text/plain": [
       "0         2\n",
       "1         2\n",
       "2         2\n",
       "3         3\n",
       "4         2\n",
       "         ..\n",
       "131657    3\n",
       "131658    2\n",
       "131659    2\n",
       "131660    2\n",
       "131661    1\n",
       "Name: Surge_Pricing_Type, Length: 125742, dtype: int64"
      ]
     },
     "execution_count": 43,
     "metadata": {},
     "output_type": "execute_result"
    }
   ],
   "source": [
    "y"
   ]
  },
  {
   "cell_type": "code",
   "execution_count": 11,
   "metadata": {},
   "outputs": [
    {
     "data": {
      "text/plain": [
       "(92163, 13)"
      ]
     },
     "execution_count": 11,
     "metadata": {},
     "output_type": "execute_result"
    }
   ],
   "source": [
    "from sklearn.model_selection import train_test_split\n",
    "X_train,X_test,y_train,y_test=train_test_split(X,y,test_size=0.3,random_state=101)\n",
    "X_train.shape"
   ]
  },
  {
   "cell_type": "code",
   "execution_count": 12,
   "metadata": {},
   "outputs": [
    {
     "name": "stdout",
     "output_type": "stream",
     "text": [
      "{3: 1.18, 1: 2.06, 2: 1.0}\n"
     ]
    }
   ],
   "source": [
    "from collections import Counter\n",
    "\n",
    "def get_class_weights(y):\n",
    "    counter = Counter(y)\n",
    "    majority = max(counter.values())\n",
    "    return  {cls: round(float(majority)/float(count), 2) for cls, count in counter.items()}\n",
    "\n",
    "#train = pd.read('train.csv')\n",
    "class_weights = get_class_weights(y_train)\n",
    "print(class_weights)"
   ]
  },
  {
   "cell_type": "code",
   "execution_count": 13,
   "metadata": {},
   "outputs": [],
   "source": [
    "from datetime import datetime\n",
    "from sklearn.model_selection import RandomizedSearchCV, GridSearchCV\n",
    "from sklearn.metrics import roc_auc_score\n",
    "from sklearn.model_selection import StratifiedKFold\n",
    "from xgboost import XGBClassifier"
   ]
  },
  {
   "cell_type": "code",
   "execution_count": 14,
   "metadata": {},
   "outputs": [],
   "source": [
    "def timer(start_time=None):\n",
    "    if not start_time:\n",
    "        start_time = datetime.now()\n",
    "        return start_time\n",
    "    elif start_time:\n",
    "        thour, temp_sec = divmod((datetime.now() - start_time).total_seconds(), 3600)\n",
    "        tmin, tsec = divmod(temp_sec, 60)\n",
    "        print('\\n Time taken: %i hours %i minutes and %s seconds.' % (thour, tmin, round(tsec, 2)))"
   ]
  },
  {
   "cell_type": "code",
   "execution_count": 15,
   "metadata": {},
   "outputs": [],
   "source": [
    " #A parameter grid for XGBoost\n",
    "params = {\n",
    "        'min_child_weight': [1, 5, 10],\n",
    "        'gamma': [0.5, 1, 1.5, 2, 5],\n",
    "        'subsample': [0.6, 0.8, 1.0],\n",
    "        'colsample_bytree': [0.6, 0.8, 1.0],\n",
    "        'max_depth': [3, 4, 5]\n",
    "        }"
   ]
  },
  {
   "cell_type": "code",
   "execution_count": 16,
   "metadata": {},
   "outputs": [],
   "source": [
    "xgb = XGBClassifier(learning_rate=0.02, n_estimators=600,\n",
    "                    silent=True, nthread=1)"
   ]
  },
  {
   "cell_type": "code",
   "execution_count": 17,
   "metadata": {},
   "outputs": [
    {
     "name": "stdout",
     "output_type": "stream",
     "text": [
      "Fitting 3 folds for each of 5 candidates, totalling 15 fits\n"
     ]
    },
    {
     "name": "stderr",
     "output_type": "stream",
     "text": [
      "[Parallel(n_jobs=4)]: Using backend LokyBackend with 4 concurrent workers.\n",
      "[Parallel(n_jobs=4)]: Done  15 out of  15 | elapsed:  6.4min finished\n"
     ]
    },
    {
     "name": "stdout",
     "output_type": "stream",
     "text": [
      "\n",
      " Time taken: 0 hours 9 minutes and 5.6 seconds.\n"
     ]
    }
   ],
   "source": [
    "folds = 3\n",
    "param_comb = 5\n",
    "\n",
    "skf = StratifiedKFold(n_splits=folds, shuffle = True, random_state = 1001)\n",
    "\n",
    "random_search = RandomizedSearchCV(xgb, param_distributions=params, n_iter=param_comb, n_jobs=4, cv=skf.split(X,y), scoring = 'accuracy', verbose=3, random_state=1001 )\n",
    "\n",
    "# Here we go\n",
    "start_time = timer(None) # timing starts from this point for \"start_time\" variable\n",
    "random_search.fit(X, y)\n",
    "timer(start_time) # timing ends here for \"start_time\" variable"
   ]
  },
  {
   "cell_type": "code",
   "execution_count": 18,
   "metadata": {},
   "outputs": [
    {
     "name": "stdout",
     "output_type": "stream",
     "text": [
      "\n",
      " All results:\n",
      "{'mean_fit_time': array([ 67.29305808, 111.97144389, 104.0666422 ,  75.75566554,\n",
      "        95.83521589]), 'std_fit_time': array([0.12369158, 1.21841692, 0.76088239, 1.3301824 , 0.64508601]), 'mean_score_time': array([1.76569637, 4.31321613, 3.98840213, 4.81879687, 2.7625463 ]), 'std_score_time': array([0.01236548, 0.08971778, 0.19761671, 1.02890985, 0.04417783]), 'param_subsample': masked_array(data=[1.0, 0.6, 0.8, 1.0, 0.8],\n",
      "             mask=[False, False, False, False, False],\n",
      "       fill_value='?',\n",
      "            dtype=object), 'param_min_child_weight': masked_array(data=[5, 1, 5, 5, 1],\n",
      "             mask=[False, False, False, False, False],\n",
      "       fill_value='?',\n",
      "            dtype=object), 'param_max_depth': masked_array(data=[3, 5, 5, 5, 4],\n",
      "             mask=[False, False, False, False, False],\n",
      "       fill_value='?',\n",
      "            dtype=object), 'param_gamma': masked_array(data=[5, 1.5, 1, 5, 1],\n",
      "             mask=[False, False, False, False, False],\n",
      "       fill_value='?',\n",
      "            dtype=object), 'param_colsample_bytree': masked_array(data=[1.0, 0.8, 0.8, 0.6, 1.0],\n",
      "             mask=[False, False, False, False, False],\n",
      "       fill_value='?',\n",
      "            dtype=object), 'params': [{'subsample': 1.0, 'min_child_weight': 5, 'max_depth': 3, 'gamma': 5, 'colsample_bytree': 1.0}, {'subsample': 0.6, 'min_child_weight': 1, 'max_depth': 5, 'gamma': 1.5, 'colsample_bytree': 0.8}, {'subsample': 0.8, 'min_child_weight': 5, 'max_depth': 5, 'gamma': 1, 'colsample_bytree': 0.8}, {'subsample': 1.0, 'min_child_weight': 5, 'max_depth': 5, 'gamma': 5, 'colsample_bytree': 0.6}, {'subsample': 0.8, 'min_child_weight': 1, 'max_depth': 4, 'gamma': 1, 'colsample_bytree': 1.0}], 'split0_test_score': array([0.69287732, 0.69624954, 0.69620397, 0.69531535, 0.69622676]), 'split1_test_score': array([0.69694898, 0.70045799, 0.70048078, 0.70004785, 0.69986556]), 'split2_test_score': array([0.6972452 , 0.70193907, 0.70148335, 0.70013899, 0.69929592]), 'mean_test_score': array([0.6956905 , 0.69954887, 0.69938937, 0.69850073, 0.69846275]), 'std_test_score': array([0.00199289, 0.00241006, 0.0022893 , 0.00225271, 0.00159809]), 'rank_test_score': array([5, 1, 2, 3, 4])}\n",
      "\n",
      " Best estimator:\n",
      "XGBClassifier(base_score=0.5, booster='gbtree', colsample_bylevel=1,\n",
      "              colsample_bynode=1, colsample_bytree=0.8, gamma=1.5,\n",
      "              learning_rate=0.02, max_delta_step=0, max_depth=5,\n",
      "              min_child_weight=1, missing=None, n_estimators=600, n_jobs=1,\n",
      "              nthread=1, objective='multi:softprob', random_state=0,\n",
      "              reg_alpha=0, reg_lambda=1, scale_pos_weight=1, seed=None,\n",
      "              silent=True, subsample=0.6, verbosity=1)\n",
      "\n",
      " Best normalized gini score for 3-fold search with 5 parameter combinations:\n",
      "0.399097739656477\n",
      "\n",
      " Best hyperparameters:\n",
      "{'subsample': 0.6, 'min_child_weight': 1, 'max_depth': 5, 'gamma': 1.5, 'colsample_bytree': 0.8}\n"
     ]
    }
   ],
   "source": [
    "print('\\n All results:')\n",
    "print(random_search.cv_results_)\n",
    "print('\\n Best estimator:')\n",
    "print(random_search.best_estimator_)\n",
    "print('\\n Best normalized gini score for %d-fold search with %d parameter combinations:' % (folds, param_comb))\n",
    "print(random_search.best_score_ * 2 - 1)\n",
    "print('\\n Best hyperparameters:')\n",
    "print(random_search.best_params_)\n",
    "results = pd.DataFrame(random_search.cv_results_)\n",
    "results.to_csv('xgb-random-grid-search-results-02.csv', index=False)"
   ]
  },
  {
   "cell_type": "code",
   "execution_count": 47,
   "metadata": {},
   "outputs": [],
   "source": [
    "model = XGBClassifier(base_score=0.5, booster='gbtree', colsample_bylevel=1,\n",
    "              colsample_bynode=1, colsample_bytree=0.8, gamma=1.5,\n",
    "              learning_rate=0.02, max_delta_step=0, max_depth=5,\n",
    "              min_child_weight=1, missing=None, n_estimators=600, n_jobs=1,\n",
    "              nthread=1, objective='multi:softprob', random_state=0,\n",
    "              reg_alpha=0, reg_lambda=1, scale_pos_weight=1, seed=None,\n",
    "              silent=True, subsample=0.6, verbosity=1)"
   ]
  },
  {
   "cell_type": "code",
   "execution_count": 20,
   "metadata": {},
   "outputs": [
    {
     "name": "stdout",
     "output_type": "stream",
     "text": [
      "[0]\tvalidation_0-merror:0.408466\n",
      "[1]\tvalidation_0-merror:0.315097\n",
      "[2]\tvalidation_0-merror:0.3114\n",
      "[3]\tvalidation_0-merror:0.310691\n",
      "[4]\tvalidation_0-merror:0.310615\n",
      "[5]\tvalidation_0-merror:0.311704\n",
      "[6]\tvalidation_0-merror:0.311577\n",
      "[7]\tvalidation_0-merror:0.310312\n",
      "[8]\tvalidation_0-merror:0.310388\n",
      "[9]\tvalidation_0-merror:0.310413\n",
      "[10]\tvalidation_0-merror:0.311426\n",
      "[11]\tvalidation_0-merror:0.310818\n",
      "[12]\tvalidation_0-merror:0.310464\n",
      "[13]\tvalidation_0-merror:0.311198\n",
      "[14]\tvalidation_0-merror:0.311552\n",
      "[15]\tvalidation_0-merror:0.311577\n",
      "[16]\tvalidation_0-merror:0.311755\n",
      "[17]\tvalidation_0-merror:0.311577\n",
      "[18]\tvalidation_0-merror:0.311729\n",
      "[19]\tvalidation_0-merror:0.312134\n",
      "[20]\tvalidation_0-merror:0.312388\n",
      "[21]\tvalidation_0-merror:0.311603\n",
      "[22]\tvalidation_0-merror:0.311856\n",
      "[23]\tvalidation_0-merror:0.312261\n",
      "[24]\tvalidation_0-merror:0.31178\n",
      "[25]\tvalidation_0-merror:0.31178\n",
      "[26]\tvalidation_0-merror:0.31221\n",
      "[27]\tvalidation_0-merror:0.312438\n",
      "[28]\tvalidation_0-merror:0.312489\n",
      "[29]\tvalidation_0-merror:0.312337\n",
      "[30]\tvalidation_0-merror:0.31216\n",
      "[31]\tvalidation_0-merror:0.311755\n",
      "[32]\tvalidation_0-merror:0.311932\n",
      "[33]\tvalidation_0-merror:0.311122\n",
      "[34]\tvalidation_0-merror:0.311223\n",
      "[35]\tvalidation_0-merror:0.311172\n",
      "[36]\tvalidation_0-merror:0.311122\n",
      "[37]\tvalidation_0-merror:0.310793\n",
      "[38]\tvalidation_0-merror:0.311198\n",
      "[39]\tvalidation_0-merror:0.310818\n",
      "[40]\tvalidation_0-merror:0.310945\n",
      "[41]\tvalidation_0-merror:0.310919\n",
      "[42]\tvalidation_0-merror:0.310691\n",
      "[43]\tvalidation_0-merror:0.310438\n",
      "[44]\tvalidation_0-merror:0.310615\n",
      "[45]\tvalidation_0-merror:0.31054\n",
      "[46]\tvalidation_0-merror:0.310312\n",
      "[47]\tvalidation_0-merror:0.310388\n",
      "[48]\tvalidation_0-merror:0.31021\n",
      "[49]\tvalidation_0-merror:0.310084\n",
      "[50]\tvalidation_0-merror:0.310134\n",
      "[51]\tvalidation_0-merror:0.310134\n",
      "[52]\tvalidation_0-merror:0.310058\n",
      "[53]\tvalidation_0-merror:0.310109\n",
      "[54]\tvalidation_0-merror:0.310312\n",
      "[55]\tvalidation_0-merror:0.31054\n",
      "[56]\tvalidation_0-merror:0.31021\n",
      "[57]\tvalidation_0-merror:0.310337\n",
      "[58]\tvalidation_0-merror:0.31021\n",
      "[59]\tvalidation_0-merror:0.310185\n",
      "[60]\tvalidation_0-merror:0.310185\n",
      "[61]\tvalidation_0-merror:0.310413\n",
      "[62]\tvalidation_0-merror:0.31016\n",
      "[63]\tvalidation_0-merror:0.309957\n",
      "[64]\tvalidation_0-merror:0.309881\n",
      "[65]\tvalidation_0-merror:0.309881\n",
      "[66]\tvalidation_0-merror:0.310109\n",
      "[67]\tvalidation_0-merror:0.309856\n",
      "[68]\tvalidation_0-merror:0.309805\n",
      "[69]\tvalidation_0-merror:0.309881\n",
      "[70]\tvalidation_0-merror:0.309805\n",
      "[71]\tvalidation_0-merror:0.309577\n",
      "[72]\tvalidation_0-merror:0.309577\n",
      "[73]\tvalidation_0-merror:0.309603\n",
      "[74]\tvalidation_0-merror:0.309704\n",
      "[75]\tvalidation_0-merror:0.309628\n",
      "[76]\tvalidation_0-merror:0.309476\n",
      "[77]\tvalidation_0-merror:0.309527\n",
      "[78]\tvalidation_0-merror:0.309299\n",
      "[79]\tvalidation_0-merror:0.309426\n",
      "[80]\tvalidation_0-merror:0.309501\n",
      "[81]\tvalidation_0-merror:0.30935\n",
      "[82]\tvalidation_0-merror:0.30935\n",
      "[83]\tvalidation_0-merror:0.309172\n",
      "[84]\tvalidation_0-merror:0.309248\n",
      "[85]\tvalidation_0-merror:0.308945\n",
      "[86]\tvalidation_0-merror:0.309122\n",
      "[87]\tvalidation_0-merror:0.309147\n",
      "[88]\tvalidation_0-merror:0.308919\n",
      "[89]\tvalidation_0-merror:0.308793\n",
      "[90]\tvalidation_0-merror:0.308793\n",
      "[91]\tvalidation_0-merror:0.308641\n",
      "[92]\tvalidation_0-merror:0.308742\n",
      "[93]\tvalidation_0-merror:0.308717\n",
      "[94]\tvalidation_0-merror:0.308793\n",
      "[95]\tvalidation_0-merror:0.308691\n",
      "[96]\tvalidation_0-merror:0.308742\n",
      "[97]\tvalidation_0-merror:0.308565\n",
      "[98]\tvalidation_0-merror:0.308464\n",
      "[99]\tvalidation_0-merror:0.308514\n",
      "[100]\tvalidation_0-merror:0.308767\n",
      "[101]\tvalidation_0-merror:0.308843\n",
      "[102]\tvalidation_0-merror:0.308767\n",
      "[103]\tvalidation_0-merror:0.308641\n",
      "[104]\tvalidation_0-merror:0.308742\n",
      "[105]\tvalidation_0-merror:0.308742\n",
      "[106]\tvalidation_0-merror:0.308539\n",
      "[107]\tvalidation_0-merror:0.308489\n",
      "[108]\tvalidation_0-merror:0.308464\n",
      "[109]\tvalidation_0-merror:0.308362\n",
      "[110]\tvalidation_0-merror:0.308337\n",
      "[111]\tvalidation_0-merror:0.308388\n",
      "[112]\tvalidation_0-merror:0.308185\n",
      "[113]\tvalidation_0-merror:0.307982\n",
      "[114]\tvalidation_0-merror:0.308286\n",
      "[115]\tvalidation_0-merror:0.308388\n",
      "[116]\tvalidation_0-merror:0.308185\n",
      "[117]\tvalidation_0-merror:0.308134\n",
      "[118]\tvalidation_0-merror:0.307982\n",
      "[119]\tvalidation_0-merror:0.307982\n",
      "[120]\tvalidation_0-merror:0.307982\n",
      "[121]\tvalidation_0-merror:0.308033\n",
      "[122]\tvalidation_0-merror:0.307957\n",
      "[123]\tvalidation_0-merror:0.307856\n",
      "[124]\tvalidation_0-merror:0.307679\n",
      "[125]\tvalidation_0-merror:0.307805\n",
      "[126]\tvalidation_0-merror:0.307729\n",
      "[127]\tvalidation_0-merror:0.307907\n",
      "[128]\tvalidation_0-merror:0.307831\n",
      "[129]\tvalidation_0-merror:0.30778\n",
      "[130]\tvalidation_0-merror:0.307755\n",
      "[131]\tvalidation_0-merror:0.307856\n",
      "[132]\tvalidation_0-merror:0.307704\n",
      "[133]\tvalidation_0-merror:0.307552\n",
      "[134]\tvalidation_0-merror:0.307577\n",
      "[135]\tvalidation_0-merror:0.307577\n",
      "[136]\tvalidation_0-merror:0.307704\n",
      "[137]\tvalidation_0-merror:0.307805\n",
      "[138]\tvalidation_0-merror:0.307603\n",
      "[139]\tvalidation_0-merror:0.307527\n",
      "[140]\tvalidation_0-merror:0.307451\n",
      "[141]\tvalidation_0-merror:0.307324\n",
      "[142]\tvalidation_0-merror:0.307375\n",
      "[143]\tvalidation_0-merror:0.3074\n",
      "[144]\tvalidation_0-merror:0.30735\n",
      "[145]\tvalidation_0-merror:0.307299\n",
      "[146]\tvalidation_0-merror:0.307046\n",
      "[147]\tvalidation_0-merror:0.307198\n",
      "[148]\tvalidation_0-merror:0.307122\n",
      "[149]\tvalidation_0-merror:0.307198\n",
      "[150]\tvalidation_0-merror:0.307172\n",
      "[151]\tvalidation_0-merror:0.307071\n",
      "[152]\tvalidation_0-merror:0.306995\n",
      "[153]\tvalidation_0-merror:0.30697\n",
      "[154]\tvalidation_0-merror:0.306995\n",
      "[155]\tvalidation_0-merror:0.306919\n",
      "[156]\tvalidation_0-merror:0.307071\n",
      "[157]\tvalidation_0-merror:0.30702\n",
      "[158]\tvalidation_0-merror:0.306995\n",
      "[159]\tvalidation_0-merror:0.306767\n",
      "[160]\tvalidation_0-merror:0.306793\n",
      "[161]\tvalidation_0-merror:0.306641\n",
      "[162]\tvalidation_0-merror:0.306717\n",
      "[163]\tvalidation_0-merror:0.306818\n",
      "[164]\tvalidation_0-merror:0.306919\n",
      "[165]\tvalidation_0-merror:0.306767\n",
      "[166]\tvalidation_0-merror:0.306691\n",
      "[167]\tvalidation_0-merror:0.306666\n",
      "[168]\tvalidation_0-merror:0.306514\n",
      "[169]\tvalidation_0-merror:0.306565\n",
      "[170]\tvalidation_0-merror:0.306489\n",
      "[171]\tvalidation_0-merror:0.306565\n",
      "[172]\tvalidation_0-merror:0.306489\n",
      "[173]\tvalidation_0-merror:0.306514\n",
      "[174]\tvalidation_0-merror:0.306641\n",
      "[175]\tvalidation_0-merror:0.306565\n",
      "[176]\tvalidation_0-merror:0.306742\n",
      "[177]\tvalidation_0-merror:0.306742\n",
      "[178]\tvalidation_0-merror:0.306489\n",
      "[179]\tvalidation_0-merror:0.30659\n",
      "[180]\tvalidation_0-merror:0.306615\n",
      "[181]\tvalidation_0-merror:0.306615\n",
      "[182]\tvalidation_0-merror:0.306641\n",
      "[183]\tvalidation_0-merror:0.306641\n",
      "[184]\tvalidation_0-merror:0.306539\n",
      "[185]\tvalidation_0-merror:0.306615\n",
      "[186]\tvalidation_0-merror:0.306615\n",
      "[187]\tvalidation_0-merror:0.30659\n",
      "[188]\tvalidation_0-merror:0.306463\n",
      "[189]\tvalidation_0-merror:0.306388\n",
      "[190]\tvalidation_0-merror:0.306565\n",
      "[191]\tvalidation_0-merror:0.306388\n",
      "[192]\tvalidation_0-merror:0.306337\n",
      "[193]\tvalidation_0-merror:0.306539\n",
      "[194]\tvalidation_0-merror:0.306413\n",
      "[195]\tvalidation_0-merror:0.306514\n",
      "[196]\tvalidation_0-merror:0.306286\n",
      "[197]\tvalidation_0-merror:0.30621\n",
      "[198]\tvalidation_0-merror:0.306261\n",
      "[199]\tvalidation_0-merror:0.30616\n",
      "[200]\tvalidation_0-merror:0.305982\n",
      "[201]\tvalidation_0-merror:0.305932\n",
      "[202]\tvalidation_0-merror:0.305932\n",
      "[203]\tvalidation_0-merror:0.306033\n",
      "[204]\tvalidation_0-merror:0.306008\n",
      "[205]\tvalidation_0-merror:0.30578\n",
      "[206]\tvalidation_0-merror:0.305856\n",
      "[207]\tvalidation_0-merror:0.305856\n",
      "[208]\tvalidation_0-merror:0.305831\n",
      "[209]\tvalidation_0-merror:0.305932\n",
      "[210]\tvalidation_0-merror:0.305906\n",
      "[211]\tvalidation_0-merror:0.305831\n",
      "[212]\tvalidation_0-merror:0.305805\n",
      "[213]\tvalidation_0-merror:0.305805\n",
      "[214]\tvalidation_0-merror:0.305729\n",
      "[215]\tvalidation_0-merror:0.305653\n",
      "[216]\tvalidation_0-merror:0.305628\n",
      "[217]\tvalidation_0-merror:0.305628\n",
      "[218]\tvalidation_0-merror:0.305501\n",
      "[219]\tvalidation_0-merror:0.305248\n",
      "[220]\tvalidation_0-merror:0.3054\n",
      "[221]\tvalidation_0-merror:0.305349\n",
      "[222]\tvalidation_0-merror:0.305375\n",
      "[223]\tvalidation_0-merror:0.305299\n",
      "[224]\tvalidation_0-merror:0.305425\n",
      "[225]\tvalidation_0-merror:0.305299\n",
      "[226]\tvalidation_0-merror:0.305248\n",
      "[227]\tvalidation_0-merror:0.305172\n",
      "[228]\tvalidation_0-merror:0.305096\n",
      "[229]\tvalidation_0-merror:0.305299\n",
      "[230]\tvalidation_0-merror:0.30502\n",
      "[231]\tvalidation_0-merror:0.305071\n",
      "[232]\tvalidation_0-merror:0.305147\n",
      "[233]\tvalidation_0-merror:0.30502\n",
      "[234]\tvalidation_0-merror:0.304894\n",
      "[235]\tvalidation_0-merror:0.304944\n",
      "[236]\tvalidation_0-merror:0.304843\n",
      "[237]\tvalidation_0-merror:0.305096\n",
      "[238]\tvalidation_0-merror:0.304894\n"
     ]
    },
    {
     "name": "stdout",
     "output_type": "stream",
     "text": [
      "[239]\tvalidation_0-merror:0.304793\n",
      "[240]\tvalidation_0-merror:0.304843\n",
      "[241]\tvalidation_0-merror:0.304843\n",
      "[242]\tvalidation_0-merror:0.304868\n",
      "[243]\tvalidation_0-merror:0.304843\n",
      "[244]\tvalidation_0-merror:0.304767\n",
      "[245]\tvalidation_0-merror:0.304691\n",
      "[246]\tvalidation_0-merror:0.304742\n",
      "[247]\tvalidation_0-merror:0.304666\n",
      "[248]\tvalidation_0-merror:0.304539\n",
      "[249]\tvalidation_0-merror:0.304539\n",
      "[250]\tvalidation_0-merror:0.304641\n",
      "[251]\tvalidation_0-merror:0.304691\n",
      "[252]\tvalidation_0-merror:0.304868\n",
      "[253]\tvalidation_0-merror:0.304742\n",
      "[254]\tvalidation_0-merror:0.304641\n",
      "[255]\tvalidation_0-merror:0.304666\n",
      "[256]\tvalidation_0-merror:0.304717\n",
      "[257]\tvalidation_0-merror:0.304615\n",
      "[258]\tvalidation_0-merror:0.304615\n",
      "[259]\tvalidation_0-merror:0.304514\n",
      "[260]\tvalidation_0-merror:0.304387\n",
      "[261]\tvalidation_0-merror:0.304463\n",
      "[262]\tvalidation_0-merror:0.304236\n",
      "[263]\tvalidation_0-merror:0.304337\n",
      "[264]\tvalidation_0-merror:0.304337\n",
      "[265]\tvalidation_0-merror:0.304387\n",
      "[266]\tvalidation_0-merror:0.304261\n",
      "[267]\tvalidation_0-merror:0.304185\n",
      "[268]\tvalidation_0-merror:0.304286\n",
      "[269]\tvalidation_0-merror:0.304084\n",
      "[270]\tvalidation_0-merror:0.304033\n",
      "[271]\tvalidation_0-merror:0.30383\n",
      "[272]\tvalidation_0-merror:0.303957\n",
      "[273]\tvalidation_0-merror:0.303881\n",
      "[274]\tvalidation_0-merror:0.304033\n",
      "[275]\tvalidation_0-merror:0.304084\n",
      "[276]\tvalidation_0-merror:0.304033\n",
      "[277]\tvalidation_0-merror:0.304134\n",
      "[278]\tvalidation_0-merror:0.304109\n",
      "[279]\tvalidation_0-merror:0.303906\n",
      "[280]\tvalidation_0-merror:0.304008\n",
      "[281]\tvalidation_0-merror:0.303906\n",
      "[282]\tvalidation_0-merror:0.304033\n",
      "[283]\tvalidation_0-merror:0.303932\n",
      "[284]\tvalidation_0-merror:0.303881\n",
      "[285]\tvalidation_0-merror:0.304008\n",
      "[286]\tvalidation_0-merror:0.304109\n",
      "[287]\tvalidation_0-merror:0.304236\n",
      "[288]\tvalidation_0-merror:0.304134\n",
      "[289]\tvalidation_0-merror:0.304134\n",
      "[290]\tvalidation_0-merror:0.303932\n",
      "[291]\tvalidation_0-merror:0.303805\n",
      "[292]\tvalidation_0-merror:0.303704\n",
      "[293]\tvalidation_0-merror:0.303704\n",
      "[294]\tvalidation_0-merror:0.303628\n",
      "[295]\tvalidation_0-merror:0.303628\n",
      "[296]\tvalidation_0-merror:0.303628\n",
      "[297]\tvalidation_0-merror:0.303628\n",
      "[298]\tvalidation_0-merror:0.303552\n",
      "[299]\tvalidation_0-merror:0.303552\n",
      "[300]\tvalidation_0-merror:0.303603\n",
      "[301]\tvalidation_0-merror:0.303628\n",
      "[302]\tvalidation_0-merror:0.303527\n",
      "[303]\tvalidation_0-merror:0.303527\n",
      "[304]\tvalidation_0-merror:0.303603\n",
      "[305]\tvalidation_0-merror:0.303653\n",
      "[306]\tvalidation_0-merror:0.303755\n",
      "[307]\tvalidation_0-merror:0.303679\n",
      "[308]\tvalidation_0-merror:0.303603\n",
      "[309]\tvalidation_0-merror:0.303729\n",
      "[310]\tvalidation_0-merror:0.303704\n",
      "[311]\tvalidation_0-merror:0.30378\n",
      "[312]\tvalidation_0-merror:0.303729\n",
      "[313]\tvalidation_0-merror:0.30378\n",
      "[314]\tvalidation_0-merror:0.303704\n",
      "[315]\tvalidation_0-merror:0.303527\n",
      "[316]\tvalidation_0-merror:0.303653\n",
      "[317]\tvalidation_0-merror:0.303577\n",
      "[318]\tvalidation_0-merror:0.303349\n",
      "[319]\tvalidation_0-merror:0.303476\n",
      "[320]\tvalidation_0-merror:0.3034\n",
      "[321]\tvalidation_0-merror:0.303425\n",
      "[322]\tvalidation_0-merror:0.303476\n",
      "[323]\tvalidation_0-merror:0.303375\n",
      "[324]\tvalidation_0-merror:0.303122\n",
      "[325]\tvalidation_0-merror:0.303223\n",
      "[326]\tvalidation_0-merror:0.303248\n",
      "[327]\tvalidation_0-merror:0.303223\n",
      "[328]\tvalidation_0-merror:0.303046\n",
      "[329]\tvalidation_0-merror:0.303046\n",
      "[330]\tvalidation_0-merror:0.303046\n",
      "[331]\tvalidation_0-merror:0.303147\n",
      "[332]\tvalidation_0-merror:0.303223\n",
      "[333]\tvalidation_0-merror:0.303198\n",
      "[334]\tvalidation_0-merror:0.303122\n",
      "[335]\tvalidation_0-merror:0.302995\n",
      "[336]\tvalidation_0-merror:0.302995\n",
      "[337]\tvalidation_0-merror:0.302919\n",
      "[338]\tvalidation_0-merror:0.302919\n",
      "[339]\tvalidation_0-merror:0.302995\n",
      "[340]\tvalidation_0-merror:0.30297\n",
      "[341]\tvalidation_0-merror:0.302742\n",
      "[342]\tvalidation_0-merror:0.302792\n",
      "[343]\tvalidation_0-merror:0.302792\n",
      "[344]\tvalidation_0-merror:0.302843\n",
      "[345]\tvalidation_0-merror:0.302894\n",
      "[346]\tvalidation_0-merror:0.302792\n",
      "[347]\tvalidation_0-merror:0.302666\n",
      "[348]\tvalidation_0-merror:0.302717\n",
      "[349]\tvalidation_0-merror:0.302792\n",
      "[350]\tvalidation_0-merror:0.302818\n",
      "[351]\tvalidation_0-merror:0.302843\n",
      "[352]\tvalidation_0-merror:0.302742\n",
      "[353]\tvalidation_0-merror:0.302742\n",
      "[354]\tvalidation_0-merror:0.302767\n",
      "[355]\tvalidation_0-merror:0.302691\n",
      "[356]\tvalidation_0-merror:0.302894\n",
      "[357]\tvalidation_0-merror:0.30297\n",
      "[358]\tvalidation_0-merror:0.30302\n",
      "[359]\tvalidation_0-merror:0.303046\n",
      "[360]\tvalidation_0-merror:0.303046\n",
      "[361]\tvalidation_0-merror:0.303096\n",
      "[362]\tvalidation_0-merror:0.303122\n",
      "[363]\tvalidation_0-merror:0.30302\n",
      "[364]\tvalidation_0-merror:0.303122\n",
      "[365]\tvalidation_0-merror:0.303071\n",
      "[366]\tvalidation_0-merror:0.302944\n",
      "[367]\tvalidation_0-merror:0.30297\n",
      "[368]\tvalidation_0-merror:0.302944\n",
      "[369]\tvalidation_0-merror:0.303046\n",
      "[370]\tvalidation_0-merror:0.303046\n",
      "[371]\tvalidation_0-merror:0.302919\n",
      "[372]\tvalidation_0-merror:0.302919\n",
      "[373]\tvalidation_0-merror:0.302944\n",
      "[374]\tvalidation_0-merror:0.302868\n",
      "[375]\tvalidation_0-merror:0.302995\n",
      "[376]\tvalidation_0-merror:0.303071\n",
      "[377]\tvalidation_0-merror:0.30302\n",
      "[378]\tvalidation_0-merror:0.303122\n",
      "[379]\tvalidation_0-merror:0.303096\n",
      "[380]\tvalidation_0-merror:0.302995\n",
      "[381]\tvalidation_0-merror:0.303046\n",
      "[382]\tvalidation_0-merror:0.30302\n",
      "[383]\tvalidation_0-merror:0.302995\n",
      "[384]\tvalidation_0-merror:0.30302\n",
      "[385]\tvalidation_0-merror:0.303096\n",
      "[386]\tvalidation_0-merror:0.303071\n",
      "[387]\tvalidation_0-merror:0.303172\n",
      "[388]\tvalidation_0-merror:0.303096\n",
      "[389]\tvalidation_0-merror:0.303071\n",
      "[390]\tvalidation_0-merror:0.302995\n",
      "[391]\tvalidation_0-merror:0.303122\n",
      "[392]\tvalidation_0-merror:0.303122\n",
      "[393]\tvalidation_0-merror:0.303071\n",
      "[394]\tvalidation_0-merror:0.303046\n",
      "[395]\tvalidation_0-merror:0.302995\n",
      "[396]\tvalidation_0-merror:0.302995\n",
      "[397]\tvalidation_0-merror:0.303046\n",
      "[398]\tvalidation_0-merror:0.303147\n",
      "[399]\tvalidation_0-merror:0.303147\n",
      "[400]\tvalidation_0-merror:0.303071\n",
      "[401]\tvalidation_0-merror:0.303046\n",
      "[402]\tvalidation_0-merror:0.30297\n",
      "[403]\tvalidation_0-merror:0.302919\n",
      "[404]\tvalidation_0-merror:0.302894\n",
      "[405]\tvalidation_0-merror:0.302919\n",
      "[406]\tvalidation_0-merror:0.302868\n",
      "[407]\tvalidation_0-merror:0.302944\n",
      "[408]\tvalidation_0-merror:0.302843\n",
      "[409]\tvalidation_0-merror:0.30297\n",
      "[410]\tvalidation_0-merror:0.302843\n",
      "[411]\tvalidation_0-merror:0.302944\n",
      "[412]\tvalidation_0-merror:0.30297\n",
      "[413]\tvalidation_0-merror:0.302868\n",
      "[414]\tvalidation_0-merror:0.302792\n",
      "[415]\tvalidation_0-merror:0.302843\n",
      "[416]\tvalidation_0-merror:0.302767\n",
      "[417]\tvalidation_0-merror:0.302818\n",
      "[418]\tvalidation_0-merror:0.302691\n",
      "[419]\tvalidation_0-merror:0.30259\n",
      "[420]\tvalidation_0-merror:0.302565\n",
      "[421]\tvalidation_0-merror:0.302666\n",
      "[422]\tvalidation_0-merror:0.302615\n",
      "[423]\tvalidation_0-merror:0.302691\n",
      "[424]\tvalidation_0-merror:0.302666\n",
      "[425]\tvalidation_0-merror:0.302615\n",
      "[426]\tvalidation_0-merror:0.302463\n",
      "[427]\tvalidation_0-merror:0.302438\n",
      "[428]\tvalidation_0-merror:0.302539\n",
      "[429]\tvalidation_0-merror:0.302539\n",
      "[430]\tvalidation_0-merror:0.302666\n",
      "[431]\tvalidation_0-merror:0.302641\n",
      "[432]\tvalidation_0-merror:0.302641\n",
      "[433]\tvalidation_0-merror:0.302641\n",
      "[434]\tvalidation_0-merror:0.302615\n",
      "[435]\tvalidation_0-merror:0.302641\n",
      "[436]\tvalidation_0-merror:0.302539\n",
      "[437]\tvalidation_0-merror:0.302463\n",
      "[438]\tvalidation_0-merror:0.302514\n",
      "[439]\tvalidation_0-merror:0.302615\n",
      "[440]\tvalidation_0-merror:0.302489\n",
      "[441]\tvalidation_0-merror:0.30259\n",
      "[442]\tvalidation_0-merror:0.302565\n",
      "[443]\tvalidation_0-merror:0.302691\n",
      "[444]\tvalidation_0-merror:0.302666\n",
      "[445]\tvalidation_0-merror:0.302641\n",
      "[446]\tvalidation_0-merror:0.302565\n",
      "[447]\tvalidation_0-merror:0.302463\n",
      "[448]\tvalidation_0-merror:0.302565\n",
      "[449]\tvalidation_0-merror:0.302641\n",
      "[450]\tvalidation_0-merror:0.302641\n",
      "[451]\tvalidation_0-merror:0.302514\n",
      "[452]\tvalidation_0-merror:0.302463\n",
      "[453]\tvalidation_0-merror:0.302514\n",
      "[454]\tvalidation_0-merror:0.302539\n",
      "[455]\tvalidation_0-merror:0.302362\n",
      "[456]\tvalidation_0-merror:0.302362\n",
      "[457]\tvalidation_0-merror:0.302438\n",
      "[458]\tvalidation_0-merror:0.302286\n",
      "[459]\tvalidation_0-merror:0.302337\n",
      "[460]\tvalidation_0-merror:0.302413\n",
      "[461]\tvalidation_0-merror:0.302337\n",
      "[462]\tvalidation_0-merror:0.302337\n",
      "[463]\tvalidation_0-merror:0.302337\n",
      "[464]\tvalidation_0-merror:0.302311\n",
      "[465]\tvalidation_0-merror:0.302236\n",
      "[466]\tvalidation_0-merror:0.302438\n",
      "[467]\tvalidation_0-merror:0.302387\n",
      "[468]\tvalidation_0-merror:0.302413\n",
      "[469]\tvalidation_0-merror:0.302185\n",
      "[470]\tvalidation_0-merror:0.302362\n",
      "[471]\tvalidation_0-merror:0.302438\n",
      "[472]\tvalidation_0-merror:0.302362\n",
      "[473]\tvalidation_0-merror:0.302362\n"
     ]
    },
    {
     "name": "stdout",
     "output_type": "stream",
     "text": [
      "[474]\tvalidation_0-merror:0.30221\n",
      "[475]\tvalidation_0-merror:0.30216\n",
      "[476]\tvalidation_0-merror:0.302109\n",
      "[477]\tvalidation_0-merror:0.302185\n",
      "[478]\tvalidation_0-merror:0.30221\n",
      "[479]\tvalidation_0-merror:0.301906\n",
      "[480]\tvalidation_0-merror:0.302008\n",
      "[481]\tvalidation_0-merror:0.302033\n",
      "[482]\tvalidation_0-merror:0.302084\n",
      "[483]\tvalidation_0-merror:0.302311\n",
      "[484]\tvalidation_0-merror:0.302109\n",
      "[485]\tvalidation_0-merror:0.302033\n",
      "[486]\tvalidation_0-merror:0.302109\n",
      "[487]\tvalidation_0-merror:0.30216\n",
      "[488]\tvalidation_0-merror:0.302134\n",
      "[489]\tvalidation_0-merror:0.302033\n",
      "[490]\tvalidation_0-merror:0.302084\n",
      "[491]\tvalidation_0-merror:0.302058\n",
      "[492]\tvalidation_0-merror:0.302134\n",
      "[493]\tvalidation_0-merror:0.302084\n",
      "[494]\tvalidation_0-merror:0.302058\n",
      "[495]\tvalidation_0-merror:0.302286\n",
      "[496]\tvalidation_0-merror:0.302261\n",
      "[497]\tvalidation_0-merror:0.302033\n",
      "[498]\tvalidation_0-merror:0.302058\n",
      "[499]\tvalidation_0-merror:0.302134\n",
      "[500]\tvalidation_0-merror:0.302185\n",
      "[501]\tvalidation_0-merror:0.302261\n",
      "[502]\tvalidation_0-merror:0.302261\n",
      "[503]\tvalidation_0-merror:0.302236\n",
      "[504]\tvalidation_0-merror:0.302286\n",
      "[505]\tvalidation_0-merror:0.302185\n",
      "[506]\tvalidation_0-merror:0.302185\n",
      "[507]\tvalidation_0-merror:0.30216\n",
      "[508]\tvalidation_0-merror:0.30216\n",
      "[509]\tvalidation_0-merror:0.302236\n",
      "[510]\tvalidation_0-merror:0.302286\n",
      "[511]\tvalidation_0-merror:0.30216\n",
      "[512]\tvalidation_0-merror:0.30221\n",
      "[513]\tvalidation_0-merror:0.302185\n",
      "[514]\tvalidation_0-merror:0.302236\n",
      "[515]\tvalidation_0-merror:0.302286\n",
      "[516]\tvalidation_0-merror:0.302236\n",
      "[517]\tvalidation_0-merror:0.302387\n",
      "[518]\tvalidation_0-merror:0.302286\n",
      "[519]\tvalidation_0-merror:0.302311\n",
      "[520]\tvalidation_0-merror:0.30221\n",
      "[521]\tvalidation_0-merror:0.30221\n",
      "[522]\tvalidation_0-merror:0.302185\n",
      "[523]\tvalidation_0-merror:0.30221\n",
      "[524]\tvalidation_0-merror:0.302236\n",
      "[525]\tvalidation_0-merror:0.302261\n",
      "[526]\tvalidation_0-merror:0.302109\n",
      "[527]\tvalidation_0-merror:0.30216\n",
      "[528]\tvalidation_0-merror:0.302185\n",
      "[529]\tvalidation_0-merror:0.302236\n",
      "[530]\tvalidation_0-merror:0.302286\n",
      "[531]\tvalidation_0-merror:0.302337\n",
      "[532]\tvalidation_0-merror:0.302337\n",
      "[533]\tvalidation_0-merror:0.302311\n",
      "[534]\tvalidation_0-merror:0.30221\n",
      "[535]\tvalidation_0-merror:0.302185\n",
      "[536]\tvalidation_0-merror:0.302109\n",
      "[537]\tvalidation_0-merror:0.30216\n",
      "[538]\tvalidation_0-merror:0.302185\n",
      "[539]\tvalidation_0-merror:0.302236\n",
      "[540]\tvalidation_0-merror:0.302337\n",
      "[541]\tvalidation_0-merror:0.302311\n",
      "[542]\tvalidation_0-merror:0.302463\n",
      "[543]\tvalidation_0-merror:0.302489\n",
      "[544]\tvalidation_0-merror:0.302387\n",
      "[545]\tvalidation_0-merror:0.302362\n",
      "[546]\tvalidation_0-merror:0.302387\n",
      "[547]\tvalidation_0-merror:0.302362\n",
      "[548]\tvalidation_0-merror:0.302438\n",
      "[549]\tvalidation_0-merror:0.302438\n",
      "[550]\tvalidation_0-merror:0.302565\n",
      "[551]\tvalidation_0-merror:0.302514\n",
      "[552]\tvalidation_0-merror:0.302539\n",
      "[553]\tvalidation_0-merror:0.302489\n",
      "[554]\tvalidation_0-merror:0.302337\n",
      "[555]\tvalidation_0-merror:0.302362\n",
      "[556]\tvalidation_0-merror:0.302311\n",
      "[557]\tvalidation_0-merror:0.302362\n",
      "[558]\tvalidation_0-merror:0.302261\n",
      "[559]\tvalidation_0-merror:0.302311\n",
      "[560]\tvalidation_0-merror:0.302413\n",
      "[561]\tvalidation_0-merror:0.302311\n",
      "[562]\tvalidation_0-merror:0.302236\n",
      "[563]\tvalidation_0-merror:0.302337\n",
      "[564]\tvalidation_0-merror:0.302311\n",
      "[565]\tvalidation_0-merror:0.302337\n",
      "[566]\tvalidation_0-merror:0.302286\n",
      "[567]\tvalidation_0-merror:0.302387\n",
      "[568]\tvalidation_0-merror:0.302387\n",
      "[569]\tvalidation_0-merror:0.302337\n",
      "[570]\tvalidation_0-merror:0.302337\n",
      "[571]\tvalidation_0-merror:0.302311\n",
      "[572]\tvalidation_0-merror:0.302362\n",
      "[573]\tvalidation_0-merror:0.302362\n",
      "[574]\tvalidation_0-merror:0.302286\n",
      "[575]\tvalidation_0-merror:0.302463\n",
      "[576]\tvalidation_0-merror:0.302463\n",
      "[577]\tvalidation_0-merror:0.302489\n",
      "[578]\tvalidation_0-merror:0.302489\n",
      "[579]\tvalidation_0-merror:0.302413\n",
      "[580]\tvalidation_0-merror:0.302489\n",
      "[581]\tvalidation_0-merror:0.302514\n",
      "[582]\tvalidation_0-merror:0.302565\n",
      "[583]\tvalidation_0-merror:0.302463\n",
      "[584]\tvalidation_0-merror:0.302438\n",
      "[585]\tvalidation_0-merror:0.302387\n",
      "[586]\tvalidation_0-merror:0.302539\n",
      "[587]\tvalidation_0-merror:0.302413\n",
      "[588]\tvalidation_0-merror:0.302514\n",
      "[589]\tvalidation_0-merror:0.302641\n",
      "[590]\tvalidation_0-merror:0.302514\n",
      "[591]\tvalidation_0-merror:0.302489\n",
      "[592]\tvalidation_0-merror:0.302514\n",
      "[593]\tvalidation_0-merror:0.302463\n",
      "[594]\tvalidation_0-merror:0.302438\n",
      "[595]\tvalidation_0-merror:0.302413\n",
      "[596]\tvalidation_0-merror:0.302514\n",
      "[597]\tvalidation_0-merror:0.302463\n",
      "[598]\tvalidation_0-merror:0.302337\n",
      "[599]\tvalidation_0-merror:0.302337\n"
     ]
    },
    {
     "data": {
      "text/plain": [
       "XGBClassifier(base_score=0.5, booster='gbtree', colsample_bylevel=1,\n",
       "              colsample_bynode=1, colsample_bytree=0.8, gamma=1.5,\n",
       "              learning_rate=0.02, max_delta_step=0, max_depth=5,\n",
       "              min_child_weight=1, missing=None, n_estimators=600, n_jobs=1,\n",
       "              nthread=1, objective='multi:softprob', random_state=0,\n",
       "              reg_alpha=0, reg_lambda=1, scale_pos_weight=1, seed=None,\n",
       "              silent=True, subsample=0.6, verbosity=1)"
      ]
     },
     "execution_count": 20,
     "metadata": {},
     "output_type": "execute_result"
    }
   ],
   "source": [
    "eval_set = [(X_test, y_test)]\n",
    "model.fit(X_train, y_train, eval_metric= 'merror' , eval_set=eval_set, verbose=True)"
   ]
  },
  {
   "cell_type": "code",
   "execution_count": 21,
   "metadata": {},
   "outputs": [],
   "source": [
    "y_pred = model.predict(X_test)"
   ]
  },
  {
   "cell_type": "code",
   "execution_count": 22,
   "metadata": {},
   "outputs": [],
   "source": [
    "from sklearn import metrics\n",
    "from sklearn.metrics import classification_report"
   ]
  },
  {
   "cell_type": "code",
   "execution_count": 23,
   "metadata": {},
   "outputs": [
    {
     "name": "stdout",
     "output_type": "stream",
     "text": [
      "              precision    recall  f1-score   support\n",
      "\n",
      "           1       0.74      0.54      0.63      8072\n",
      "           2       0.68      0.79      0.73     17239\n",
      "           3       0.71      0.67      0.69     14188\n",
      "\n",
      "    accuracy                           0.70     39499\n",
      "   macro avg       0.71      0.67      0.68     39499\n",
      "weighted avg       0.70      0.70      0.69     39499\n",
      "\n"
     ]
    }
   ],
   "source": [
    "print(classification_report(y_test, y_pred))"
   ]
  },
  {
   "cell_type": "code",
   "execution_count": 24,
   "metadata": {},
   "outputs": [
    {
     "data": {
      "text/html": [
       "<div>\n",
       "<style scoped>\n",
       "    .dataframe tbody tr th:only-of-type {\n",
       "        vertical-align: middle;\n",
       "    }\n",
       "\n",
       "    .dataframe tbody tr th {\n",
       "        vertical-align: top;\n",
       "    }\n",
       "\n",
       "    .dataframe thead th {\n",
       "        text-align: right;\n",
       "    }\n",
       "</style>\n",
       "<table border=\"1\" class=\"dataframe\">\n",
       "  <thead>\n",
       "    <tr style=\"text-align: right;\">\n",
       "      <th></th>\n",
       "      <th>Trip_ID</th>\n",
       "      <th>Trip_Distance</th>\n",
       "      <th>Type_of_Cab</th>\n",
       "      <th>Customer_Since_Months</th>\n",
       "      <th>Life_Style_Index</th>\n",
       "      <th>Confidence_Life_Style_Index</th>\n",
       "      <th>Destination_Type</th>\n",
       "      <th>Customer_Rating</th>\n",
       "      <th>Cancellation_Last_1Month</th>\n",
       "      <th>Var2</th>\n",
       "      <th>Var3</th>\n",
       "      <th>Gender</th>\n",
       "      <th>Trip_band</th>\n",
       "    </tr>\n",
       "  </thead>\n",
       "  <tbody>\n",
       "    <tr>\n",
       "      <th>0</th>\n",
       "      <td>T0005689459</td>\n",
       "      <td>9.44</td>\n",
       "      <td>A</td>\n",
       "      <td>10.0</td>\n",
       "      <td>2.574380</td>\n",
       "      <td>A</td>\n",
       "      <td>B</td>\n",
       "      <td>3.68000</td>\n",
       "      <td>2</td>\n",
       "      <td>46</td>\n",
       "      <td>63</td>\n",
       "      <td>Male</td>\n",
       "      <td>0</td>\n",
       "    </tr>\n",
       "    <tr>\n",
       "      <th>1</th>\n",
       "      <td>T0005689462</td>\n",
       "      <td>32.15</td>\n",
       "      <td>B</td>\n",
       "      <td>10.0</td>\n",
       "      <td>2.851430</td>\n",
       "      <td>A</td>\n",
       "      <td>A</td>\n",
       "      <td>1.59375</td>\n",
       "      <td>0</td>\n",
       "      <td>49</td>\n",
       "      <td>80</td>\n",
       "      <td>Female</td>\n",
       "      <td>1</td>\n",
       "    </tr>\n",
       "    <tr>\n",
       "      <th>2</th>\n",
       "      <td>T0005689463</td>\n",
       "      <td>10.38</td>\n",
       "      <td>C</td>\n",
       "      <td>4.0</td>\n",
       "      <td>2.705300</td>\n",
       "      <td>A</td>\n",
       "      <td>D</td>\n",
       "      <td>4.50500</td>\n",
       "      <td>0</td>\n",
       "      <td>47</td>\n",
       "      <td>74</td>\n",
       "      <td>Male</td>\n",
       "      <td>0</td>\n",
       "    </tr>\n",
       "    <tr>\n",
       "      <th>3</th>\n",
       "      <td>T0005689466</td>\n",
       "      <td>14.94</td>\n",
       "      <td>Unknown</td>\n",
       "      <td>6.0</td>\n",
       "      <td>2.481590</td>\n",
       "      <td>C</td>\n",
       "      <td>E</td>\n",
       "      <td>4.53000</td>\n",
       "      <td>0</td>\n",
       "      <td>43</td>\n",
       "      <td>54</td>\n",
       "      <td>Male</td>\n",
       "      <td>0</td>\n",
       "    </tr>\n",
       "    <tr>\n",
       "      <th>4</th>\n",
       "      <td>T0005689468</td>\n",
       "      <td>32.03</td>\n",
       "      <td>B</td>\n",
       "      <td>7.0</td>\n",
       "      <td>2.815980</td>\n",
       "      <td>A</td>\n",
       "      <td>K</td>\n",
       "      <td>4.60125</td>\n",
       "      <td>3</td>\n",
       "      <td>44</td>\n",
       "      <td>56</td>\n",
       "      <td>Male</td>\n",
       "      <td>1</td>\n",
       "    </tr>\n",
       "    <tr>\n",
       "      <th>5</th>\n",
       "      <td>T0005689471</td>\n",
       "      <td>18.26</td>\n",
       "      <td>E</td>\n",
       "      <td>2.0</td>\n",
       "      <td>2.803392</td>\n",
       "      <td>Unknown</td>\n",
       "      <td>A</td>\n",
       "      <td>3.58250</td>\n",
       "      <td>2</td>\n",
       "      <td>56</td>\n",
       "      <td>78</td>\n",
       "      <td>Female</td>\n",
       "      <td>0</td>\n",
       "    </tr>\n",
       "    <tr>\n",
       "      <th>6</th>\n",
       "      <td>T0005689476</td>\n",
       "      <td>47.34</td>\n",
       "      <td>E</td>\n",
       "      <td>0.0</td>\n",
       "      <td>2.595580</td>\n",
       "      <td>C</td>\n",
       "      <td>B</td>\n",
       "      <td>0.84125</td>\n",
       "      <td>0</td>\n",
       "      <td>60</td>\n",
       "      <td>73</td>\n",
       "      <td>Female</td>\n",
       "      <td>2</td>\n",
       "    </tr>\n",
       "    <tr>\n",
       "      <th>7</th>\n",
       "      <td>T0005689478</td>\n",
       "      <td>43.19</td>\n",
       "      <td>B</td>\n",
       "      <td>10.0</td>\n",
       "      <td>2.949790</td>\n",
       "      <td>A</td>\n",
       "      <td>L</td>\n",
       "      <td>3.48750</td>\n",
       "      <td>2</td>\n",
       "      <td>57</td>\n",
       "      <td>99</td>\n",
       "      <td>Male</td>\n",
       "      <td>2</td>\n",
       "    </tr>\n",
       "    <tr>\n",
       "      <th>8</th>\n",
       "      <td>T0005689480</td>\n",
       "      <td>45.41</td>\n",
       "      <td>C</td>\n",
       "      <td>7.0</td>\n",
       "      <td>2.646390</td>\n",
       "      <td>C</td>\n",
       "      <td>B</td>\n",
       "      <td>2.48125</td>\n",
       "      <td>0</td>\n",
       "      <td>53</td>\n",
       "      <td>75</td>\n",
       "      <td>Male</td>\n",
       "      <td>2</td>\n",
       "    </tr>\n",
       "    <tr>\n",
       "      <th>9</th>\n",
       "      <td>T0005689481</td>\n",
       "      <td>5.75</td>\n",
       "      <td>E</td>\n",
       "      <td>3.0</td>\n",
       "      <td>2.651390</td>\n",
       "      <td>C</td>\n",
       "      <td>C</td>\n",
       "      <td>3.01500</td>\n",
       "      <td>3</td>\n",
       "      <td>49</td>\n",
       "      <td>67</td>\n",
       "      <td>Male</td>\n",
       "      <td>0</td>\n",
       "    </tr>\n",
       "  </tbody>\n",
       "</table>\n",
       "</div>"
      ],
      "text/plain": [
       "       Trip_ID  Trip_Distance Type_of_Cab  Customer_Since_Months  \\\n",
       "0  T0005689459           9.44           A                   10.0   \n",
       "1  T0005689462          32.15           B                   10.0   \n",
       "2  T0005689463          10.38           C                    4.0   \n",
       "3  T0005689466          14.94     Unknown                    6.0   \n",
       "4  T0005689468          32.03           B                    7.0   \n",
       "5  T0005689471          18.26           E                    2.0   \n",
       "6  T0005689476          47.34           E                    0.0   \n",
       "7  T0005689478          43.19           B                   10.0   \n",
       "8  T0005689480          45.41           C                    7.0   \n",
       "9  T0005689481           5.75           E                    3.0   \n",
       "\n",
       "   Life_Style_Index Confidence_Life_Style_Index Destination_Type  \\\n",
       "0          2.574380                           A                B   \n",
       "1          2.851430                           A                A   \n",
       "2          2.705300                           A                D   \n",
       "3          2.481590                           C                E   \n",
       "4          2.815980                           A                K   \n",
       "5          2.803392                     Unknown                A   \n",
       "6          2.595580                           C                B   \n",
       "7          2.949790                           A                L   \n",
       "8          2.646390                           C                B   \n",
       "9          2.651390                           C                C   \n",
       "\n",
       "   Customer_Rating  Cancellation_Last_1Month  Var2  Var3  Gender  Trip_band  \n",
       "0          3.68000                         2    46    63    Male          0  \n",
       "1          1.59375                         0    49    80  Female          1  \n",
       "2          4.50500                         0    47    74    Male          0  \n",
       "3          4.53000                         0    43    54    Male          0  \n",
       "4          4.60125                         3    44    56    Male          1  \n",
       "5          3.58250                         2    56    78  Female          0  \n",
       "6          0.84125                         0    60    73  Female          2  \n",
       "7          3.48750                         2    57    99    Male          2  \n",
       "8          2.48125                         0    53    75    Male          2  \n",
       "9          3.01500                         3    49    67    Male          0  "
      ]
     },
     "execution_count": 24,
     "metadata": {},
     "output_type": "execute_result"
    }
   ],
   "source": [
    "test_df['Trip_band']=0\n",
    "test_df.loc[test_df['Trip_Distance']<=20,'Trip_band']=0\n",
    "test_df.loc[(test_df['Trip_Distance']>20)&(test_df['Trip_Distance']<=40),'Trip_band']=1\n",
    "test_df.loc[(test_df['Trip_Distance']>40)&(test_df['Trip_Distance']<=60),'Trip_band']=2\n",
    "test_df.loc[(test_df['Trip_Distance']>60)&(test_df['Trip_Distance']<=80),'Trip_band']=3\n",
    "test_df.loc[(test_df['Trip_Distance']>80)&(test_df['Trip_Distance']<=100),'Trip_band']=4\n",
    "test_df.loc[test_df['Trip_Distance']>100,'Trip_band']=5\n",
    "\n",
    "test_df['Type_of_Cab'] = test_df['Type_of_Cab'].replace(np.nan, 'Unknown', regex=True)\n",
    "test_df['Confidence_Life_Style_Index'] = test_df['Confidence_Life_Style_Index'].replace(np.nan, 'Unknown', regex=True)\n",
    "test_df['Life_Style_Index'].fillna((test_df['Life_Style_Index'].mean()), inplace=True)\n",
    "\n",
    "test_df.drop(['Var1'],axis=1,inplace=True)\n",
    "\n",
    "test_df.head(10)"
   ]
  },
  {
   "cell_type": "code",
   "execution_count": 25,
   "metadata": {},
   "outputs": [
    {
     "data": {
      "text/html": [
       "<div>\n",
       "<style scoped>\n",
       "    .dataframe tbody tr th:only-of-type {\n",
       "        vertical-align: middle;\n",
       "    }\n",
       "\n",
       "    .dataframe tbody tr th {\n",
       "        vertical-align: top;\n",
       "    }\n",
       "\n",
       "    .dataframe thead th {\n",
       "        text-align: right;\n",
       "    }\n",
       "</style>\n",
       "<table border=\"1\" class=\"dataframe\">\n",
       "  <thead>\n",
       "    <tr style=\"text-align: right;\">\n",
       "      <th></th>\n",
       "      <th>Train</th>\n",
       "      <th>Test</th>\n",
       "    </tr>\n",
       "  </thead>\n",
       "  <tbody>\n",
       "  </tbody>\n",
       "</table>\n",
       "</div>"
      ],
      "text/plain": [
       "Empty DataFrame\n",
       "Columns: [Train, Test]\n",
       "Index: []"
      ]
     },
     "execution_count": 25,
     "metadata": {},
     "output_type": "execute_result"
    }
   ],
   "source": [
    "test_df = test_df.apply(lambda x:x.fillna(x.value_counts().index[0]))\n",
    "missing_val = pd.concat([train_df.isnull().sum(), test_df.isnull().sum()], axis=1, keys=['Train', 'Test'])\n",
    "missing_val[missing_val.sum(axis=1) > 0]\n",
    "# 19749 - 15% of Train\n",
    "# 13109 - 15% of Test"
   ]
  },
  {
   "cell_type": "code",
   "execution_count": 26,
   "metadata": {},
   "outputs": [],
   "source": [
    "trip_id_stored = test_df['Trip_ID']\n",
    "test_df.iloc[:,0]=label_x.fit_transform(test_df.iloc[:,0])\n",
    "test_df.iloc[:,2]=label_x.fit_transform(test_df.iloc[:,2])\n",
    "test_df.iloc[:,5]=label_x.fit_transform(test_df.iloc[:,5])\n",
    "test_df.iloc[:,6]=label_x.fit_transform(test_df.iloc[:,6])\n",
    "test_df.iloc[:,11]=label_x.fit_transform(test_df.iloc[:,11])"
   ]
  },
  {
   "cell_type": "code",
   "execution_count": 27,
   "metadata": {},
   "outputs": [
    {
     "data": {
      "text/plain": [
       "(87395, 13)"
      ]
     },
     "execution_count": 27,
     "metadata": {},
     "output_type": "execute_result"
    }
   ],
   "source": [
    "test_df.shape"
   ]
  },
  {
   "cell_type": "code",
   "execution_count": 48,
   "metadata": {},
   "outputs": [],
   "source": [
    "model.fit(X,y)\n",
    "yt_pred = model.predict(test_df)"
   ]
  },
  {
   "cell_type": "code",
   "execution_count": 49,
   "metadata": {},
   "outputs": [
    {
     "data": {
      "text/plain": [
       "array([1, 2, 2, ..., 1, 2, 2], dtype=int64)"
      ]
     },
     "execution_count": 49,
     "metadata": {},
     "output_type": "execute_result"
    }
   ],
   "source": [
    "yt_pred"
   ]
  },
  {
   "cell_type": "code",
   "execution_count": 50,
   "metadata": {},
   "outputs": [],
   "source": [
    "submission = pd.DataFrame({ \"Trip_ID\": trip_id_stored,\n",
    "                            \"Surge_Pricing_Type\": yt_pred })\n",
    "submission.to_csv('submission_3_XGB.csv', index=False)"
   ]
  },
  {
   "cell_type": "markdown",
   "metadata": {},
   "source": [
    "## LightGBM"
   ]
  },
  {
   "cell_type": "code",
   "execution_count": 51,
   "metadata": {},
   "outputs": [],
   "source": [
    "from datetime import datetime\n",
    "from sklearn.model_selection import RandomizedSearchCV, GridSearchCV\n",
    "from sklearn.metrics import roc_auc_score\n",
    "from sklearn.model_selection import StratifiedKFold\n",
    "import lightgbm as lgb"
   ]
  },
  {
   "cell_type": "code",
   "execution_count": 52,
   "metadata": {},
   "outputs": [],
   "source": [
    " #A parameter grid for LightGBM\n",
    "from scipy.stats import randint as sp_randint\n",
    "from scipy.stats import uniform as sp_uniform\n",
    "params = {\n",
    "             'n_estimators': [400, 700, 1000],\n",
    "             'max_depth': [15,20,25],\n",
    "             'min_split_gain': [0.3, 0.4],\n",
    "             'subsample_freq': [20],\n",
    "             'num_leaves': sp_randint(6, 50), \n",
    "             'min_child_samples': sp_randint(100, 500), \n",
    "             'min_child_weight': [1e-5, 1e-3, 1e-2, 1e-1, 1, 1e1, 1e2, 1e3, 1e4],\n",
    "             'subsample': sp_uniform(loc=0.2, scale=0.8), \n",
    "             'colsample_bytree': sp_uniform(loc=0.4, scale=0.6),\n",
    "             'reg_alpha': [0, 1e-1, 1,1.2,1.3, 2, 5, 7, 10, 50, 100],\n",
    "             'reg_lambda': [0, 1e-1, 1,1.2,1.3,2, 5, 10, 20, 50, 100]\n",
    "        }"
   ]
  },
  {
   "cell_type": "code",
   "execution_count": 53,
   "metadata": {},
   "outputs": [],
   "source": [
    "model = lgb.LGBMClassifier(learning_rate=0.01,silent=True, nthread=1)"
   ]
  },
  {
   "cell_type": "code",
   "execution_count": 54,
   "metadata": {},
   "outputs": [
    {
     "name": "stdout",
     "output_type": "stream",
     "text": [
      "Fitting 3 folds for each of 5 candidates, totalling 15 fits\n"
     ]
    },
    {
     "name": "stderr",
     "output_type": "stream",
     "text": [
      "[Parallel(n_jobs=4)]: Using backend LokyBackend with 4 concurrent workers.\n",
      "[Parallel(n_jobs=4)]: Done  15 out of  15 | elapsed:   54.1s finished\n"
     ]
    },
    {
     "name": "stdout",
     "output_type": "stream",
     "text": [
      "\n",
      " Time taken: 0 hours 1 minutes and 7.15 seconds.\n"
     ]
    }
   ],
   "source": [
    "folds = 3\n",
    "param_comb = 5\n",
    "\n",
    "skf = StratifiedKFold(n_splits=folds, shuffle = True, random_state = 1001)\n",
    "\n",
    "random_search = RandomizedSearchCV(model, param_distributions=params, n_iter=param_comb, scoring='accuracy', n_jobs=4, cv=skf.split(X,y), verbose=3, random_state=1001 )\n",
    "\n",
    "# Here we go\n",
    "start_time = timer(None) # timing starts from this point for \"start_time\" variable\n",
    "random_search.fit(X, y)\n",
    "timer(start_time) # timing ends here for \"start_time\" variable"
   ]
  },
  {
   "cell_type": "code",
   "execution_count": 55,
   "metadata": {},
   "outputs": [
    {
     "name": "stdout",
     "output_type": "stream",
     "text": [
      "\n",
      " All results:\n",
      "{'mean_fit_time': array([ 7.07582593,  6.75792352, 12.85541113, 16.48022755,  9.05262899]), 'std_fit_time': array([0.04768827, 0.13441456, 0.18359952, 0.13196525, 1.09784723]), 'mean_score_time': array([2.11270078, 2.12803117, 2.91203324, 5.56537525, 1.69301852]), 'std_score_time': array([0.01757961, 0.28521311, 0.19833485, 1.27876927, 0.39212223]), 'param_colsample_bytree': masked_array(data=[0.5837393077292833, 0.5339452116074432,\n",
      "                   0.6466339733826137, 0.669251792219633,\n",
      "                   0.7390471078849029],\n",
      "             mask=[False, False, False, False, False],\n",
      "       fill_value='?',\n",
      "            dtype=object), 'param_max_depth': masked_array(data=[20, 25, 20, 25, 20],\n",
      "             mask=[False, False, False, False, False],\n",
      "       fill_value='?',\n",
      "            dtype=object), 'param_min_child_samples': masked_array(data=[386, 187, 332, 395, 342],\n",
      "             mask=[False, False, False, False, False],\n",
      "       fill_value='?',\n",
      "            dtype=object), 'param_min_child_weight': masked_array(data=[0.1, 100.0, 1, 10.0, 0.1],\n",
      "             mask=[False, False, False, False, False],\n",
      "       fill_value='?',\n",
      "            dtype=object), 'param_min_split_gain': masked_array(data=[0.3, 0.3, 0.4, 0.3, 0.3],\n",
      "             mask=[False, False, False, False, False],\n",
      "       fill_value='?',\n",
      "            dtype=object), 'param_n_estimators': masked_array(data=[400, 400, 1000, 1000, 400],\n",
      "             mask=[False, False, False, False, False],\n",
      "       fill_value='?',\n",
      "            dtype=object), 'param_num_leaves': masked_array(data=[20, 27, 7, 13, 35],\n",
      "             mask=[False, False, False, False, False],\n",
      "       fill_value='?',\n",
      "            dtype=object), 'param_reg_alpha': masked_array(data=[1.2, 0.1, 2, 7, 5],\n",
      "             mask=[False, False, False, False, False],\n",
      "       fill_value='?',\n",
      "            dtype=object), 'param_reg_lambda': masked_array(data=[2, 0, 50, 2, 0],\n",
      "             mask=[False, False, False, False, False],\n",
      "       fill_value='?',\n",
      "            dtype=object), 'param_subsample': masked_array(data=[0.4822442307749805, 0.2872815066550854,\n",
      "                   0.5998919067711183, 0.703018228370188,\n",
      "                   0.5341971613636318],\n",
      "             mask=[False, False, False, False, False],\n",
      "       fill_value='?',\n",
      "            dtype=object), 'param_subsample_freq': masked_array(data=[20, 20, 20, 20, 20],\n",
      "             mask=[False, False, False, False, False],\n",
      "       fill_value='?',\n",
      "            dtype=object), 'params': [{'colsample_bytree': 0.5837393077292833, 'max_depth': 20, 'min_child_samples': 386, 'min_child_weight': 0.1, 'min_split_gain': 0.3, 'n_estimators': 400, 'num_leaves': 20, 'reg_alpha': 1.2, 'reg_lambda': 2, 'subsample': 0.4822442307749805, 'subsample_freq': 20}, {'colsample_bytree': 0.5339452116074432, 'max_depth': 25, 'min_child_samples': 187, 'min_child_weight': 100.0, 'min_split_gain': 0.3, 'n_estimators': 400, 'num_leaves': 27, 'reg_alpha': 0.1, 'reg_lambda': 0, 'subsample': 0.2872815066550854, 'subsample_freq': 20}, {'colsample_bytree': 0.6466339733826137, 'max_depth': 20, 'min_child_samples': 332, 'min_child_weight': 1, 'min_split_gain': 0.4, 'n_estimators': 1000, 'num_leaves': 7, 'reg_alpha': 2, 'reg_lambda': 50, 'subsample': 0.5998919067711183, 'subsample_freq': 20}, {'colsample_bytree': 0.669251792219633, 'max_depth': 25, 'min_child_samples': 395, 'min_child_weight': 10.0, 'min_split_gain': 0.3, 'n_estimators': 1000, 'num_leaves': 13, 'reg_alpha': 7, 'reg_lambda': 2, 'subsample': 0.703018228370188, 'subsample_freq': 20}, {'colsample_bytree': 0.7390471078849029, 'max_depth': 20, 'min_child_samples': 342, 'min_child_weight': 0.1, 'min_split_gain': 0.3, 'n_estimators': 400, 'num_leaves': 35, 'reg_alpha': 5, 'reg_lambda': 0, 'subsample': 0.5341971613636318, 'subsample_freq': 20}], 'split0_test_score': array([0.69301404, 0.69470015, 0.69135071, 0.69547485, 0.69485964]), 'split1_test_score': array([0.69580969, 0.69640212, 0.69583248, 0.69918199, 0.69694898]), 'split2_test_score': array([0.69562741, 0.69672112, 0.69615148, 0.69906806, 0.69729077]), 'mean_test_score': array([0.69481705, 0.69594113, 0.69444489, 0.6979083 , 0.69636646]), 'std_test_score': array([0.00127709, 0.00088712, 0.00219179, 0.00172134, 0.00107458]), 'rank_test_score': array([4, 3, 5, 1, 2])}\n",
      "\n",
      " Best estimator:\n",
      "LGBMClassifier(boosting_type='gbdt', class_weight=None,\n",
      "               colsample_bytree=0.669251792219633, importance_type='split',\n",
      "               learning_rate=0.01, max_depth=25, min_child_samples=395,\n",
      "               min_child_weight=10.0, min_split_gain=0.3, n_estimators=1000,\n",
      "               n_jobs=-1, nthread=1, num_leaves=13, objective=None,\n",
      "               random_state=None, reg_alpha=7, reg_lambda=2, silent=True,\n",
      "               subsample=0.703018228370188, subsample_for_bin=200000,\n",
      "               subsample_freq=20)\n",
      "\n",
      " Best normalized gini score for 3-fold search with 5 parameter combinations:\n",
      "0.3958165975521215\n",
      "\n",
      " Best hyperparameters:\n",
      "{'colsample_bytree': 0.669251792219633, 'max_depth': 25, 'min_child_samples': 395, 'min_child_weight': 10.0, 'min_split_gain': 0.3, 'n_estimators': 1000, 'num_leaves': 13, 'reg_alpha': 7, 'reg_lambda': 2, 'subsample': 0.703018228370188, 'subsample_freq': 20}\n"
     ]
    }
   ],
   "source": [
    "print('\\n All results:')\n",
    "print(random_search.cv_results_)\n",
    "print('\\n Best estimator:')\n",
    "print(random_search.best_estimator_)\n",
    "print('\\n Best normalized gini score for %d-fold search with %d parameter combinations:' % (folds, param_comb))\n",
    "print(random_search.best_score_ * 2 - 1)\n",
    "print('\\n Best hyperparameters:')\n",
    "print(random_search.best_params_)\n",
    "results = pd.DataFrame(random_search.cv_results_)\n",
    "results.to_csv('lgb-random-grid-search-results-01.csv', index=False)"
   ]
  },
  {
   "cell_type": "code",
   "execution_count": 56,
   "metadata": {},
   "outputs": [],
   "source": [
    "model = lgb.LGBMClassifier(boosting_type='gbdt', class_weight=None,\n",
    "               colsample_bytree=0.669251792219633, importance_type='split',\n",
    "               learning_rate=0.01, max_depth=25, min_child_samples=395,\n",
    "               min_child_weight=10.0, min_split_gain=0.3, n_estimators=1000,\n",
    "               n_jobs=-1, nthread=1, num_leaves=13, objective=None,\n",
    "               random_state=None, reg_alpha=7, reg_lambda=2, silent=True,\n",
    "               subsample=0.703018228370188, subsample_for_bin=200000,\n",
    "               subsample_freq=20)"
   ]
  },
  {
   "cell_type": "code",
   "execution_count": 57,
   "metadata": {},
   "outputs": [
    {
     "data": {
      "text/plain": [
       "LGBMClassifier(boosting_type='gbdt', class_weight=None,\n",
       "               colsample_bytree=0.669251792219633, importance_type='split',\n",
       "               learning_rate=0.01, max_depth=25, min_child_samples=395,\n",
       "               min_child_weight=10.0, min_split_gain=0.3, n_estimators=1000,\n",
       "               n_jobs=-1, nthread=1, num_leaves=13, objective=None,\n",
       "               random_state=None, reg_alpha=7, reg_lambda=2, silent=True,\n",
       "               subsample=0.703018228370188, subsample_for_bin=200000,\n",
       "               subsample_freq=20)"
      ]
     },
     "execution_count": 57,
     "metadata": {},
     "output_type": "execute_result"
    }
   ],
   "source": [
    "#model.fit(X_train, y_train)\n",
    "model.fit(X, y)"
   ]
  },
  {
   "cell_type": "code",
   "execution_count": 38,
   "metadata": {},
   "outputs": [],
   "source": [
    "prob_test = model.predict(X_test)"
   ]
  },
  {
   "cell_type": "code",
   "execution_count": 39,
   "metadata": {},
   "outputs": [
    {
     "data": {
      "text/plain": [
       "array([1, 3, 1, ..., 2, 2, 1], dtype=int64)"
      ]
     },
     "execution_count": 39,
     "metadata": {},
     "output_type": "execute_result"
    }
   ],
   "source": [
    "prob_test"
   ]
  },
  {
   "cell_type": "code",
   "execution_count": 40,
   "metadata": {},
   "outputs": [
    {
     "name": "stdout",
     "output_type": "stream",
     "text": [
      "              precision    recall  f1-score   support\n",
      "\n",
      "           1       0.74      0.54      0.63      8072\n",
      "           2       0.67      0.80      0.73     17239\n",
      "           3       0.71      0.66      0.69     14188\n",
      "\n",
      "    accuracy                           0.70     39499\n",
      "   macro avg       0.71      0.67      0.68     39499\n",
      "weighted avg       0.70      0.70      0.69     39499\n",
      "\n"
     ]
    }
   ],
   "source": [
    "print(classification_report(y_test, prob_test))"
   ]
  },
  {
   "cell_type": "code",
   "execution_count": 58,
   "metadata": {},
   "outputs": [],
   "source": [
    "y_pred_lgb = model.predict(test_df)"
   ]
  },
  {
   "cell_type": "code",
   "execution_count": 59,
   "metadata": {},
   "outputs": [
    {
     "data": {
      "text/plain": [
       "array([1, 2, 2, ..., 1, 2, 2], dtype=int64)"
      ]
     },
     "execution_count": 59,
     "metadata": {},
     "output_type": "execute_result"
    }
   ],
   "source": [
    "y_pred_lgb"
   ]
  },
  {
   "cell_type": "code",
   "execution_count": 60,
   "metadata": {},
   "outputs": [],
   "source": [
    "submission = pd.DataFrame({ \"Trip_ID\": trip_id_stored,\n",
    "                            \"Surge_Pricing_Type\": yt_pred })\n",
    "submission.to_csv('submission_2_LGB.csv', index=False)"
   ]
  },
  {
   "cell_type": "markdown",
   "metadata": {},
   "source": [
    "## CatBoost"
   ]
  },
  {
   "cell_type": "code",
   "execution_count": 61,
   "metadata": {},
   "outputs": [],
   "source": [
    "from catboost import CatBoostClassifier"
   ]
  },
  {
   "cell_type": "code",
   "execution_count": 62,
   "metadata": {},
   "outputs": [],
   "source": [
    " #A parameter grid for CatBoost\n",
    "from scipy.stats import uniform as sp_randFloat\n",
    "from scipy.stats import randint as sp_randInt\n",
    "parameters = {'depth'         : sp_randInt(4, 10),\n",
    "                  'learning_rate' : sp_randFloat(),\n",
    "                  'iterations'    : sp_randInt(10, 100)\n",
    "                 }"
   ]
  },
  {
   "cell_type": "code",
   "execution_count": 63,
   "metadata": {},
   "outputs": [],
   "source": [
    "model = CatBoostClassifier()"
   ]
  },
  {
   "cell_type": "code",
   "execution_count": 64,
   "metadata": {},
   "outputs": [
    {
     "name": "stdout",
     "output_type": "stream",
     "text": [
      "0:\tlearn: 0.9323675\ttotal: 71.6ms\tremaining: 6.3s\n",
      "1:\tlearn: 0.8604178\ttotal: 87.7ms\tremaining: 3.82s\n",
      "2:\tlearn: 0.8181325\ttotal: 104ms\tremaining: 2.97s\n",
      "3:\tlearn: 0.7944322\ttotal: 121ms\tremaining: 2.56s\n",
      "4:\tlearn: 0.7798207\ttotal: 137ms\tremaining: 2.3s\n",
      "5:\tlearn: 0.7679895\ttotal: 153ms\tremaining: 2.11s\n",
      "6:\tlearn: 0.7604601\ttotal: 168ms\tremaining: 1.97s\n",
      "7:\tlearn: 0.7522282\ttotal: 184ms\tremaining: 1.86s\n",
      "8:\tlearn: 0.7461152\ttotal: 200ms\tremaining: 1.78s\n",
      "9:\tlearn: 0.7420388\ttotal: 215ms\tremaining: 1.7s\n",
      "10:\tlearn: 0.7367150\ttotal: 230ms\tremaining: 1.63s\n",
      "11:\tlearn: 0.7329351\ttotal: 245ms\tremaining: 1.57s\n",
      "12:\tlearn: 0.7304135\ttotal: 260ms\tremaining: 1.52s\n",
      "13:\tlearn: 0.7278794\ttotal: 279ms\tremaining: 1.5s\n",
      "14:\tlearn: 0.7260428\ttotal: 298ms\tremaining: 1.47s\n",
      "15:\tlearn: 0.7237144\ttotal: 318ms\tremaining: 1.45s\n",
      "16:\tlearn: 0.7222042\ttotal: 332ms\tremaining: 1.41s\n",
      "17:\tlearn: 0.7210030\ttotal: 348ms\tremaining: 1.37s\n",
      "18:\tlearn: 0.7201126\ttotal: 363ms\tremaining: 1.34s\n",
      "19:\tlearn: 0.7190687\ttotal: 379ms\tremaining: 1.31s\n",
      "20:\tlearn: 0.7175676\ttotal: 393ms\tremaining: 1.27s\n",
      "21:\tlearn: 0.7168717\ttotal: 409ms\tremaining: 1.24s\n",
      "22:\tlearn: 0.7158396\ttotal: 423ms\tremaining: 1.21s\n",
      "23:\tlearn: 0.7152671\ttotal: 438ms\tremaining: 1.19s\n",
      "24:\tlearn: 0.7146106\ttotal: 454ms\tremaining: 1.16s\n",
      "25:\tlearn: 0.7131872\ttotal: 471ms\tremaining: 1.14s\n",
      "26:\tlearn: 0.7127317\ttotal: 487ms\tremaining: 1.12s\n",
      "27:\tlearn: 0.7119449\ttotal: 502ms\tremaining: 1.09s\n",
      "28:\tlearn: 0.7110979\ttotal: 518ms\tremaining: 1.07s\n",
      "29:\tlearn: 0.7105914\ttotal: 532ms\tremaining: 1.04s\n",
      "30:\tlearn: 0.7101413\ttotal: 546ms\tremaining: 1.02s\n",
      "31:\tlearn: 0.7098012\ttotal: 559ms\tremaining: 996ms\n",
      "32:\tlearn: 0.7095005\ttotal: 573ms\tremaining: 972ms\n",
      "33:\tlearn: 0.7091554\ttotal: 585ms\tremaining: 946ms\n",
      "34:\tlearn: 0.7082997\ttotal: 598ms\tremaining: 923ms\n",
      "35:\tlearn: 0.7080287\ttotal: 611ms\tremaining: 900ms\n",
      "36:\tlearn: 0.7077180\ttotal: 624ms\tremaining: 877ms\n",
      "37:\tlearn: 0.7074154\ttotal: 637ms\tremaining: 855ms\n",
      "38:\tlearn: 0.7070521\ttotal: 655ms\tremaining: 839ms\n",
      "39:\tlearn: 0.7066418\ttotal: 675ms\tremaining: 827ms\n",
      "40:\tlearn: 0.7062418\ttotal: 689ms\tremaining: 806ms\n",
      "41:\tlearn: 0.7059403\ttotal: 702ms\tremaining: 785ms\n",
      "42:\tlearn: 0.7055247\ttotal: 715ms\tremaining: 765ms\n",
      "43:\tlearn: 0.7050972\ttotal: 727ms\tremaining: 744ms\n",
      "44:\tlearn: 0.7047581\ttotal: 740ms\tremaining: 724ms\n",
      "45:\tlearn: 0.7043183\ttotal: 753ms\tremaining: 704ms\n",
      "46:\tlearn: 0.7041656\ttotal: 766ms\tremaining: 685ms\n",
      "47:\tlearn: 0.7039124\ttotal: 779ms\tremaining: 665ms\n",
      "48:\tlearn: 0.7036910\ttotal: 791ms\tremaining: 646ms\n",
      "49:\tlearn: 0.7033204\ttotal: 805ms\tremaining: 628ms\n",
      "50:\tlearn: 0.7031072\ttotal: 817ms\tremaining: 609ms\n",
      "51:\tlearn: 0.7027617\ttotal: 831ms\tremaining: 592ms\n",
      "52:\tlearn: 0.7024881\ttotal: 847ms\tremaining: 575ms\n",
      "53:\tlearn: 0.7021874\ttotal: 863ms\tremaining: 559ms\n",
      "54:\tlearn: 0.7018693\ttotal: 876ms\tremaining: 542ms\n",
      "55:\tlearn: 0.7016575\ttotal: 889ms\tremaining: 524ms\n",
      "56:\tlearn: 0.7015350\ttotal: 902ms\tremaining: 506ms\n",
      "57:\tlearn: 0.7012332\ttotal: 916ms\tremaining: 490ms\n",
      "58:\tlearn: 0.7010366\ttotal: 930ms\tremaining: 473ms\n",
      "59:\tlearn: 0.7007538\ttotal: 944ms\tremaining: 456ms\n",
      "60:\tlearn: 0.7006473\ttotal: 964ms\tremaining: 443ms\n",
      "61:\tlearn: 0.7004652\ttotal: 978ms\tremaining: 426ms\n",
      "62:\tlearn: 0.7002462\ttotal: 993ms\tremaining: 410ms\n",
      "63:\tlearn: 0.7000587\ttotal: 1.01s\tremaining: 394ms\n",
      "64:\tlearn: 0.6999354\ttotal: 1.02s\tremaining: 378ms\n",
      "65:\tlearn: 0.6997538\ttotal: 1.04s\tremaining: 363ms\n",
      "66:\tlearn: 0.6995507\ttotal: 1.06s\tremaining: 347ms\n",
      "67:\tlearn: 0.6993649\ttotal: 1.07s\tremaining: 331ms\n",
      "68:\tlearn: 0.6992445\ttotal: 1.08s\tremaining: 314ms\n",
      "69:\tlearn: 0.6990822\ttotal: 1.11s\tremaining: 300ms\n",
      "70:\tlearn: 0.6989317\ttotal: 1.12s\tremaining: 284ms\n",
      "71:\tlearn: 0.6987777\ttotal: 1.14s\tremaining: 268ms\n",
      "72:\tlearn: 0.6986392\ttotal: 1.15s\tremaining: 252ms\n",
      "73:\tlearn: 0.6985302\ttotal: 1.17s\tremaining: 236ms\n",
      "74:\tlearn: 0.6983429\ttotal: 1.18s\tremaining: 220ms\n",
      "75:\tlearn: 0.6981301\ttotal: 1.2s\tremaining: 205ms\n",
      "76:\tlearn: 0.6978630\ttotal: 1.22s\tremaining: 190ms\n",
      "77:\tlearn: 0.6976548\ttotal: 1.23s\tremaining: 174ms\n",
      "78:\tlearn: 0.6975375\ttotal: 1.25s\tremaining: 159ms\n",
      "79:\tlearn: 0.6973254\ttotal: 1.27s\tremaining: 143ms\n",
      "80:\tlearn: 0.6972010\ttotal: 1.28s\tremaining: 127ms\n",
      "81:\tlearn: 0.6970159\ttotal: 1.3s\tremaining: 111ms\n",
      "82:\tlearn: 0.6969072\ttotal: 1.32s\tremaining: 95.3ms\n",
      "83:\tlearn: 0.6967948\ttotal: 1.33s\tremaining: 79.3ms\n",
      "84:\tlearn: 0.6966872\ttotal: 1.35s\tremaining: 63.5ms\n",
      "85:\tlearn: 0.6965645\ttotal: 1.37s\tremaining: 47.7ms\n",
      "86:\tlearn: 0.6963430\ttotal: 1.39s\tremaining: 31.9ms\n",
      "87:\tlearn: 0.6960774\ttotal: 1.4s\tremaining: 16ms\n",
      "88:\tlearn: 0.6959710\ttotal: 1.42s\tremaining: 0us\n"
     ]
    },
    {
     "data": {
      "text/plain": [
       "RandomizedSearchCV(cv=2, error_score=nan,\n",
       "                   estimator=<catboost.core.CatBoostClassifier object at 0x0000022780FD1088>,\n",
       "                   iid='deprecated', n_iter=10, n_jobs=-1,\n",
       "                   param_distributions={'depth': <scipy.stats._distn_infrastructure.rv_frozen object at 0x0000022780FCF708>,\n",
       "                                        'iterations': <scipy.stats._distn_infrastructure.rv_frozen object at 0x0000022780FCFB48>,\n",
       "                                        'learning_rate': <scipy.stats._distn_infrastructure.rv_frozen object at 0x0000022780FCF888>},\n",
       "                   pre_dispatch='2*n_jobs', random_state=None, refit=True,\n",
       "                   return_train_score=False, scoring=None, verbose=0)"
      ]
     },
     "execution_count": 64,
     "metadata": {},
     "output_type": "execute_result"
    }
   ],
   "source": [
    "randm = RandomizedSearchCV(estimator=model, param_distributions = parameters, \n",
    "                           cv = 2, n_iter = 10, n_jobs=-1)\n",
    "randm.fit(X_train, y_train)"
   ]
  },
  {
   "cell_type": "code",
   "execution_count": 65,
   "metadata": {},
   "outputs": [
    {
     "name": "stdout",
     "output_type": "stream",
     "text": [
      "\n",
      "========================================================\n",
      " Results from Random Search \n",
      "========================================================\n",
      "\n",
      " The best estimator across ALL searched params:\n",
      " <catboost.core.CatBoostClassifier object at 0x0000022780FB86C8>\n",
      "\n",
      " The best score across ALL searched params:\n",
      " 0.6973405704945005\n",
      "\n",
      " The best parameters across ALL searched params:\n",
      " {'depth': 5, 'iterations': 89, 'learning_rate': 0.30691418144567784}\n",
      "\n",
      " ========================================================\n"
     ]
    }
   ],
   "source": [
    "    # Results from Random Search\n",
    "    print(\"\\n========================================================\")\n",
    "    print(\" Results from Random Search \" )\n",
    "    print(\"========================================================\")    \n",
    "    \n",
    "    print(\"\\n The best estimator across ALL searched params:\\n\",\n",
    "          randm.best_estimator_)\n",
    "    \n",
    "    print(\"\\n The best score across ALL searched params:\\n\",\n",
    "          randm.best_score_)\n",
    "    \n",
    "    print(\"\\n The best parameters across ALL searched params:\\n\",\n",
    "          randm.best_params_)\n",
    "    \n",
    "    print(\"\\n ========================================================\")"
   ]
  },
  {
   "cell_type": "code",
   "execution_count": 67,
   "metadata": {},
   "outputs": [
    {
     "name": "stdout",
     "output_type": "stream",
     "text": [
      "0:\tlearn: 0.6712347\ttotal: 17.9ms\tremaining: 1.58s\n",
      "1:\tlearn: 0.6773651\ttotal: 34.8ms\tremaining: 1.51s\n",
      "2:\tlearn: 0.6803923\ttotal: 49.1ms\tremaining: 1.41s\n",
      "3:\tlearn: 0.6803923\ttotal: 63.5ms\tremaining: 1.35s\n",
      "4:\tlearn: 0.6806636\ttotal: 77.8ms\tremaining: 1.31s\n",
      "5:\tlearn: 0.6824322\ttotal: 91.4ms\tremaining: 1.26s\n",
      "6:\tlearn: 0.6846131\ttotal: 105ms\tremaining: 1.23s\n",
      "7:\tlearn: 0.6857199\ttotal: 119ms\tremaining: 1.2s\n",
      "8:\tlearn: 0.6879225\ttotal: 132ms\tremaining: 1.18s\n",
      "9:\tlearn: 0.6883999\ttotal: 145ms\tremaining: 1.15s\n",
      "10:\tlearn: 0.6894958\ttotal: 159ms\tremaining: 1.13s\n",
      "11:\tlearn: 0.6906459\ttotal: 173ms\tremaining: 1.11s\n",
      "12:\tlearn: 0.6916767\ttotal: 186ms\tremaining: 1.09s\n",
      "13:\tlearn: 0.6917418\ttotal: 200ms\tremaining: 1.07s\n",
      "14:\tlearn: 0.6924037\ttotal: 218ms\tremaining: 1.08s\n",
      "15:\tlearn: 0.6927292\ttotal: 237ms\tremaining: 1.08s\n",
      "16:\tlearn: 0.6932826\ttotal: 249ms\tremaining: 1.05s\n",
      "17:\tlearn: 0.6936081\ttotal: 263ms\tremaining: 1.04s\n",
      "18:\tlearn: 0.6940746\ttotal: 276ms\tremaining: 1.02s\n",
      "19:\tlearn: 0.6945195\ttotal: 290ms\tremaining: 1000ms\n",
      "20:\tlearn: 0.6956371\ttotal: 303ms\tremaining: 982ms\n",
      "21:\tlearn: 0.6959734\ttotal: 319ms\tremaining: 970ms\n",
      "22:\tlearn: 0.6961253\ttotal: 334ms\tremaining: 959ms\n",
      "23:\tlearn: 0.6965160\ttotal: 351ms\tremaining: 950ms\n",
      "24:\tlearn: 0.6968198\ttotal: 366ms\tremaining: 937ms\n",
      "25:\tlearn: 0.6968523\ttotal: 382ms\tremaining: 925ms\n",
      "26:\tlearn: 0.6970802\ttotal: 397ms\tremaining: 913ms\n",
      "27:\tlearn: 0.6971670\ttotal: 417ms\tremaining: 908ms\n",
      "28:\tlearn: 0.6973840\ttotal: 434ms\tremaining: 898ms\n",
      "29:\tlearn: 0.6978505\ttotal: 451ms\tremaining: 886ms\n",
      "30:\tlearn: 0.6980133\ttotal: 464ms\tremaining: 868ms\n",
      "31:\tlearn: 0.6980025\ttotal: 478ms\tremaining: 852ms\n",
      "32:\tlearn: 0.6981869\ttotal: 493ms\tremaining: 837ms\n",
      "33:\tlearn: 0.6983497\ttotal: 507ms\tremaining: 820ms\n",
      "34:\tlearn: 0.6984256\ttotal: 524ms\tremaining: 808ms\n",
      "35:\tlearn: 0.6985124\ttotal: 538ms\tremaining: 792ms\n",
      "36:\tlearn: 0.6985341\ttotal: 554ms\tremaining: 778ms\n",
      "37:\tlearn: 0.6985558\ttotal: 568ms\tremaining: 763ms\n",
      "38:\tlearn: 0.6985558\ttotal: 590ms\tremaining: 756ms\n",
      "39:\tlearn: 0.6988488\ttotal: 611ms\tremaining: 748ms\n",
      "40:\tlearn: 0.6991743\ttotal: 626ms\tremaining: 733ms\n",
      "41:\tlearn: 0.6991743\ttotal: 642ms\tremaining: 719ms\n",
      "42:\tlearn: 0.6991309\ttotal: 658ms\tremaining: 704ms\n",
      "43:\tlearn: 0.6991851\ttotal: 673ms\tremaining: 689ms\n",
      "44:\tlearn: 0.6994347\ttotal: 687ms\tremaining: 672ms\n",
      "45:\tlearn: 0.6995324\ttotal: 700ms\tremaining: 654ms\n",
      "46:\tlearn: 0.6995649\ttotal: 713ms\tremaining: 637ms\n",
      "47:\tlearn: 0.6996300\ttotal: 727ms\tremaining: 621ms\n",
      "48:\tlearn: 0.6997602\ttotal: 740ms\tremaining: 604ms\n",
      "49:\tlearn: 0.6997602\ttotal: 753ms\tremaining: 587ms\n",
      "50:\tlearn: 0.6998036\ttotal: 767ms\tremaining: 571ms\n",
      "51:\tlearn: 0.7000423\ttotal: 785ms\tremaining: 559ms\n",
      "52:\tlearn: 0.7002485\ttotal: 801ms\tremaining: 544ms\n",
      "53:\tlearn: 0.7003570\ttotal: 814ms\tremaining: 528ms\n",
      "54:\tlearn: 0.7002593\ttotal: 827ms\tremaining: 511ms\n",
      "55:\tlearn: 0.7003461\ttotal: 840ms\tremaining: 495ms\n",
      "56:\tlearn: 0.7007259\ttotal: 852ms\tremaining: 478ms\n",
      "57:\tlearn: 0.7007367\ttotal: 865ms\tremaining: 462ms\n",
      "58:\tlearn: 0.7008778\ttotal: 877ms\tremaining: 446ms\n",
      "59:\tlearn: 0.7006391\ttotal: 890ms\tremaining: 430ms\n",
      "60:\tlearn: 0.7008127\ttotal: 903ms\tremaining: 415ms\n",
      "61:\tlearn: 0.7009320\ttotal: 916ms\tremaining: 399ms\n",
      "62:\tlearn: 0.7012142\ttotal: 929ms\tremaining: 383ms\n",
      "63:\tlearn: 0.7013552\ttotal: 945ms\tremaining: 369ms\n",
      "64:\tlearn: 0.7015180\ttotal: 962ms\tremaining: 355ms\n",
      "65:\tlearn: 0.7016699\ttotal: 982ms\tremaining: 342ms\n",
      "66:\tlearn: 0.7017350\ttotal: 998ms\tremaining: 328ms\n",
      "67:\tlearn: 0.7016265\ttotal: 1.01s\tremaining: 312ms\n",
      "68:\tlearn: 0.7016482\ttotal: 1.03s\tremaining: 298ms\n",
      "69:\tlearn: 0.7018543\ttotal: 1.04s\tremaining: 284ms\n",
      "70:\tlearn: 0.7018869\ttotal: 1.06s\tremaining: 268ms\n",
      "71:\tlearn: 0.7018652\ttotal: 1.07s\tremaining: 253ms\n",
      "72:\tlearn: 0.7019194\ttotal: 1.09s\tremaining: 239ms\n",
      "73:\tlearn: 0.7019086\ttotal: 1.1s\tremaining: 224ms\n",
      "74:\tlearn: 0.7017892\ttotal: 1.12s\tremaining: 208ms\n",
      "75:\tlearn: 0.7019411\ttotal: 1.13s\tremaining: 194ms\n",
      "76:\tlearn: 0.7021039\ttotal: 1.15s\tremaining: 179ms\n",
      "77:\tlearn: 0.7022666\ttotal: 1.16s\tremaining: 164ms\n",
      "78:\tlearn: 0.7023100\ttotal: 1.18s\tremaining: 149ms\n",
      "79:\tlearn: 0.7025487\ttotal: 1.19s\tremaining: 134ms\n",
      "80:\tlearn: 0.7027115\ttotal: 1.21s\tremaining: 119ms\n",
      "81:\tlearn: 0.7025921\ttotal: 1.22s\tremaining: 104ms\n",
      "82:\tlearn: 0.7026681\ttotal: 1.23s\tremaining: 89ms\n",
      "83:\tlearn: 0.7026572\ttotal: 1.24s\tremaining: 74.1ms\n",
      "84:\tlearn: 0.7026681\ttotal: 1.26s\tremaining: 59.2ms\n",
      "85:\tlearn: 0.7026572\ttotal: 1.27s\tremaining: 44.3ms\n",
      "86:\tlearn: 0.7029068\ttotal: 1.28s\tremaining: 29.5ms\n",
      "87:\tlearn: 0.7029719\ttotal: 1.3s\tremaining: 14.7ms\n",
      "88:\tlearn: 0.7031455\ttotal: 1.31s\tremaining: 0us\n"
     ]
    },
    {
     "data": {
      "text/plain": [
       "<catboost.core.CatBoostClassifier at 0x2278158a988>"
      ]
     },
     "execution_count": 67,
     "metadata": {},
     "output_type": "execute_result"
    }
   ],
   "source": [
    "clf = CatBoostClassifier(eval_metric=\"Accuracy\", depth=5, iterations= 89, learning_rate= 0.30691418144567784)\n",
    "clf.fit(X_train,y_train)"
   ]
  },
  {
   "cell_type": "code",
   "execution_count": 68,
   "metadata": {},
   "outputs": [],
   "source": [
    "y_pred_cb = clf.predict(X_test)"
   ]
  },
  {
   "cell_type": "code",
   "execution_count": 69,
   "metadata": {},
   "outputs": [
    {
     "name": "stdout",
     "output_type": "stream",
     "text": [
      "              precision    recall  f1-score   support\n",
      "\n",
      "           1       0.73      0.55      0.63      8072\n",
      "           2       0.68      0.79      0.73     17239\n",
      "           3       0.71      0.67      0.69     14188\n",
      "\n",
      "    accuracy                           0.70     39499\n",
      "   macro avg       0.71      0.67      0.68     39499\n",
      "weighted avg       0.70      0.70      0.69     39499\n",
      "\n"
     ]
    }
   ],
   "source": [
    "print(classification_report(y_test, y_pred_cb))"
   ]
  },
  {
   "cell_type": "code",
   "execution_count": 70,
   "metadata": {},
   "outputs": [
    {
     "name": "stdout",
     "output_type": "stream",
     "text": [
      "0:\tlearn: 0.6722289\ttotal: 23ms\tremaining: 2.02s\n",
      "1:\tlearn: 0.6781683\ttotal: 44.6ms\tremaining: 1.94s\n",
      "2:\tlearn: 0.6793836\ttotal: 65.6ms\tremaining: 1.88s\n",
      "3:\tlearn: 0.6804849\ttotal: 88.9ms\tremaining: 1.89s\n",
      "4:\tlearn: 0.6823533\ttotal: 112ms\tremaining: 1.89s\n",
      "5:\tlearn: 0.6831812\ttotal: 136ms\tremaining: 1.88s\n",
      "6:\tlearn: 0.6846395\ttotal: 163ms\tremaining: 1.91s\n",
      "7:\tlearn: 0.6864471\ttotal: 188ms\tremaining: 1.9s\n",
      "8:\tlearn: 0.6881333\ttotal: 214ms\tremaining: 1.91s\n",
      "9:\tlearn: 0.6892346\ttotal: 240ms\tremaining: 1.89s\n",
      "10:\tlearn: 0.6896903\ttotal: 265ms\tremaining: 1.88s\n",
      "11:\tlearn: 0.6907612\ttotal: 290ms\tremaining: 1.86s\n",
      "12:\tlearn: 0.6913612\ttotal: 316ms\tremaining: 1.84s\n",
      "13:\tlearn: 0.6915435\ttotal: 341ms\tremaining: 1.82s\n",
      "14:\tlearn: 0.6919612\ttotal: 366ms\tremaining: 1.81s\n",
      "15:\tlearn: 0.6924777\ttotal: 392ms\tremaining: 1.79s\n",
      "16:\tlearn: 0.6929638\ttotal: 424ms\tremaining: 1.8s\n",
      "17:\tlearn: 0.6933739\ttotal: 452ms\tremaining: 1.78s\n",
      "18:\tlearn: 0.6933967\ttotal: 475ms\tremaining: 1.75s\n",
      "19:\tlearn: 0.6938448\ttotal: 498ms\tremaining: 1.72s\n",
      "20:\tlearn: 0.6943993\ttotal: 524ms\tremaining: 1.7s\n",
      "21:\tlearn: 0.6946272\ttotal: 550ms\tremaining: 1.67s\n",
      "22:\tlearn: 0.6951056\ttotal: 579ms\tremaining: 1.66s\n",
      "23:\tlearn: 0.6954322\ttotal: 609ms\tremaining: 1.65s\n",
      "24:\tlearn: 0.6961082\ttotal: 646ms\tremaining: 1.65s\n",
      "25:\tlearn: 0.6961842\ttotal: 669ms\tremaining: 1.62s\n",
      "26:\tlearn: 0.6964652\ttotal: 702ms\tremaining: 1.61s\n",
      "27:\tlearn: 0.6969513\ttotal: 731ms\tremaining: 1.59s\n",
      "28:\tlearn: 0.6968070\ttotal: 753ms\tremaining: 1.56s\n",
      "29:\tlearn: 0.6969133\ttotal: 777ms\tremaining: 1.53s\n",
      "30:\tlearn: 0.6972551\ttotal: 802ms\tremaining: 1.5s\n",
      "31:\tlearn: 0.6974754\ttotal: 827ms\tremaining: 1.47s\n",
      "32:\tlearn: 0.6974526\ttotal: 848ms\tremaining: 1.44s\n",
      "33:\tlearn: 0.6977108\ttotal: 867ms\tremaining: 1.4s\n",
      "34:\tlearn: 0.6978247\ttotal: 887ms\tremaining: 1.37s\n",
      "35:\tlearn: 0.6978399\ttotal: 907ms\tremaining: 1.33s\n",
      "36:\tlearn: 0.6978627\ttotal: 929ms\tremaining: 1.3s\n",
      "37:\tlearn: 0.6979007\ttotal: 951ms\tremaining: 1.28s\n",
      "38:\tlearn: 0.6978247\ttotal: 973ms\tremaining: 1.25s\n",
      "39:\tlearn: 0.6978399\ttotal: 993ms\tremaining: 1.22s\n",
      "40:\tlearn: 0.6982349\ttotal: 1.02s\tremaining: 1.19s\n",
      "41:\tlearn: 0.6985387\ttotal: 1.04s\tremaining: 1.17s\n",
      "42:\tlearn: 0.6988197\ttotal: 1.06s\tremaining: 1.14s\n",
      "43:\tlearn: 0.6988425\ttotal: 1.08s\tremaining: 1.11s\n",
      "44:\tlearn: 0.6988425\ttotal: 1.11s\tremaining: 1.08s\n",
      "45:\tlearn: 0.6989868\ttotal: 1.13s\tremaining: 1.05s\n",
      "46:\tlearn: 0.6991311\ttotal: 1.15s\tremaining: 1.03s\n",
      "47:\tlearn: 0.6991539\ttotal: 1.17s\tremaining: 1000ms\n",
      "48:\tlearn: 0.6993210\ttotal: 1.19s\tremaining: 972ms\n",
      "49:\tlearn: 0.6994501\ttotal: 1.22s\tremaining: 948ms\n",
      "50:\tlearn: 0.6995337\ttotal: 1.24s\tremaining: 923ms\n",
      "51:\tlearn: 0.6996552\ttotal: 1.26s\tremaining: 897ms\n",
      "52:\tlearn: 0.6995185\ttotal: 1.28s\tremaining: 873ms\n",
      "53:\tlearn: 0.6996704\ttotal: 1.31s\tremaining: 848ms\n",
      "54:\tlearn: 0.6998982\ttotal: 1.33s\tremaining: 826ms\n",
      "55:\tlearn: 0.6999894\ttotal: 1.35s\tremaining: 799ms\n",
      "56:\tlearn: 0.6999058\ttotal: 1.38s\tremaining: 777ms\n",
      "57:\tlearn: 0.6998071\ttotal: 1.41s\tremaining: 753ms\n",
      "58:\tlearn: 0.6999666\ttotal: 1.44s\tremaining: 730ms\n",
      "59:\tlearn: 0.7000881\ttotal: 1.47s\tremaining: 709ms\n",
      "60:\tlearn: 0.7002248\ttotal: 1.5s\tremaining: 690ms\n",
      "61:\tlearn: 0.7003463\ttotal: 1.54s\tremaining: 672ms\n",
      "62:\tlearn: 0.7004755\ttotal: 1.58s\tremaining: 653ms\n",
      "63:\tlearn: 0.7005210\ttotal: 1.62s\tremaining: 632ms\n",
      "64:\tlearn: 0.7004755\ttotal: 1.65s\tremaining: 609ms\n",
      "65:\tlearn: 0.7004755\ttotal: 1.68s\tremaining: 587ms\n",
      "66:\tlearn: 0.7004451\ttotal: 1.72s\tremaining: 563ms\n",
      "67:\tlearn: 0.7008021\ttotal: 1.75s\tremaining: 539ms\n",
      "68:\tlearn: 0.7008552\ttotal: 1.78s\tremaining: 515ms\n",
      "69:\tlearn: 0.7009767\ttotal: 1.81s\tremaining: 491ms\n",
      "70:\tlearn: 0.7008704\ttotal: 1.84s\tremaining: 466ms\n",
      "71:\tlearn: 0.7009008\ttotal: 1.87s\tremaining: 441ms\n",
      "72:\tlearn: 0.7009691\ttotal: 1.9s\tremaining: 416ms\n",
      "73:\tlearn: 0.7010071\ttotal: 1.93s\tremaining: 391ms\n",
      "74:\tlearn: 0.7009919\ttotal: 1.96s\tremaining: 366ms\n",
      "75:\tlearn: 0.7009616\ttotal: 1.99s\tremaining: 341ms\n",
      "76:\tlearn: 0.7009616\ttotal: 2.02s\tremaining: 315ms\n",
      "77:\tlearn: 0.7011059\ttotal: 2.05s\tremaining: 289ms\n",
      "78:\tlearn: 0.7011362\ttotal: 2.08s\tremaining: 263ms\n",
      "79:\tlearn: 0.7011590\ttotal: 2.11s\tremaining: 238ms\n",
      "80:\tlearn: 0.7012122\ttotal: 2.14s\tremaining: 211ms\n",
      "81:\tlearn: 0.7011742\ttotal: 2.17s\tremaining: 185ms\n",
      "82:\tlearn: 0.7012654\ttotal: 2.2s\tremaining: 159ms\n",
      "83:\tlearn: 0.7012730\ttotal: 2.23s\tremaining: 133ms\n",
      "84:\tlearn: 0.7011666\ttotal: 2.27s\tremaining: 107ms\n",
      "85:\tlearn: 0.7014476\ttotal: 2.3s\tremaining: 80.2ms\n",
      "86:\tlearn: 0.7015312\ttotal: 2.33s\tremaining: 53.5ms\n",
      "87:\tlearn: 0.7015920\ttotal: 2.36s\tremaining: 26.8ms\n",
      "88:\tlearn: 0.7017363\ttotal: 2.39s\tremaining: 0us\n"
     ]
    }
   ],
   "source": [
    "clf.fit(X,y)\n",
    "y_test_cb = clf.predict(test_df)"
   ]
  },
  {
   "cell_type": "code",
   "execution_count": 73,
   "metadata": {},
   "outputs": [
    {
     "data": {
      "text/plain": [
       "(87395,)"
      ]
     },
     "execution_count": 73,
     "metadata": {},
     "output_type": "execute_result"
    }
   ],
   "source": [
    "reshaped_y_xb.shape"
   ]
  },
  {
   "cell_type": "code",
   "execution_count": 72,
   "metadata": {},
   "outputs": [],
   "source": [
    "reshaped_y_xb = y_test_cb.reshape([87395,])"
   ]
  },
  {
   "cell_type": "code",
   "execution_count": 74,
   "metadata": {},
   "outputs": [],
   "source": [
    "submission = pd.DataFrame({ \"Trip_ID\": trip_id_stored,\n",
    "                            \"Surge_Pricing_Type\": reshaped_y_xb })\n",
    "submission.to_csv('submission_2_CB.csv', index=False)"
   ]
  },
  {
   "cell_type": "code",
   "execution_count": null,
   "metadata": {},
   "outputs": [],
   "source": []
  }
 ],
 "metadata": {
  "kernelspec": {
   "display_name": "Python 3",
   "language": "python",
   "name": "python3"
  },
  "language_info": {
   "codemirror_mode": {
    "name": "ipython",
    "version": 3
   },
   "file_extension": ".py",
   "mimetype": "text/x-python",
   "name": "python",
   "nbconvert_exporter": "python",
   "pygments_lexer": "ipython3",
   "version": "3.7.7"
  }
 },
 "nbformat": 4,
 "nbformat_minor": 4
}
